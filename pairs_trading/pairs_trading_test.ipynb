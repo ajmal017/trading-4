{
 "cells": [
  {
   "cell_type": "code",
   "execution_count": 1,
   "metadata": {},
   "outputs": [],
   "source": [
    "%load_ext autoreload\n",
    "%autoreload 2\n",
    "\n",
    "import pandas as pd\n",
    "\n",
    "from pairs_trading import IB\n",
    "from pairs_trading import Stock"
   ]
  },
  {
   "cell_type": "code",
   "execution_count": 2,
   "metadata": {},
   "outputs": [
    {
     "name": "stdout",
     "output_type": "stream",
     "text": [
      "Server Version: 76\n",
      "TWS Time at connection:20200315 18:39:23 AEST\n",
      "[-1, 2104, 'Market data farm connection is OK:usfarm.nj']\n",
      "[-1, 2104, 'Market data farm connection is OK:afarm']\n",
      "[-1, 2104, 'Market data farm connection is OK:cashfarm']\n",
      "[-1, 2104, 'Market data farm connection is OK:usfarm']\n",
      "[-1, 2106, 'HMDS data farm connection is OK:euhmds']\n",
      "[-1, 2106, 'HMDS data farm connection is OK:fundfarm']\n",
      "[-1, 2106, 'HMDS data farm connection is OK:ushmds']\n",
      "[-1, 2158, 'Sec-def data farm connection is OK:secdefnj']\n"
     ]
    }
   ],
   "source": [
    "account_name = \"DU1272702\"\n",
    "host = \"\"\n",
    "port = 4002\n",
    "client_id = 5565\n",
    "lookback = 20\n",
    "ib = IB(account_name, host, port, client_id)"
   ]
  },
  {
   "cell_type": "markdown",
   "metadata": {},
   "source": [
    "# Test tick data"
   ]
  },
  {
   "cell_type": "code",
   "execution_count": 3,
   "metadata": {},
   "outputs": [
    {
     "name": "stdout",
     "output_type": "stream",
     "text": [
      "[]\n",
      "Waiting for tick data with ID 1004.\n",
      "market_DataType1\n",
      "[(1004, 1, -1.0, 1), (1004, 2, -1.0, 1), (1004, 9, 72.4, 0)]\n",
      "   tickerId  field  price  canAutoExecute\n",
      "0      1004      1   -1.0               1\n",
      "1      1004      2   -1.0               1\n",
      "2      1004      9   72.4               0\n",
      "          Type  price\n",
      "0    BID_PRICE   -1.0\n",
      "1    ASK_PRICE   -1.0\n",
      "2  CLOSE_PRICE   72.4\n"
     ]
    }
   ],
   "source": [
    "stock = Stock('AEE', lookback, ib)\n",
    "stock.load_current_bar()"
   ]
  },
  {
   "cell_type": "code",
   "execution_count": 4,
   "metadata": {},
   "outputs": [
    {
     "name": "stdout",
     "output_type": "stream",
     "text": [
      "Empty DataFrame\n",
      "Columns: [tickerId, field, price, canAutoExecute, Type]\n",
      "Index: []\n"
     ]
    }
   ],
   "source": [
    "tick_data = pd.DataFrame(ib.callback.tick_Price, \n",
    "                         columns = ['tickerId', 'field', 'price', 'canAutoExecute'])\n",
    "tick_data[\"Type\"] = tick_data[\"field\"].map(IB.tick_type)\n",
    "print(tick_data)"
   ]
  },
  {
   "cell_type": "markdown",
   "metadata": {},
   "source": [
    "# Test stock loading it's historical data"
   ]
  },
  {
   "cell_type": "code",
   "execution_count": 14,
   "metadata": {},
   "outputs": [
    {
     "name": "stdout",
     "output_type": "stream",
     "text": [
      "2020-03-15 03:54:05.694301-04:00\n",
      "DatetimeIndex(['2020-02-04 21:00:00+00:00', '2020-02-05 21:00:00+00:00',\n",
      "               '2020-02-06 21:00:00+00:00', '2020-02-07 21:00:00+00:00',\n",
      "               '2020-02-10 21:00:00+00:00', '2020-02-11 21:00:00+00:00',\n",
      "               '2020-02-12 21:00:00+00:00', '2020-02-13 21:00:00+00:00',\n",
      "               '2020-02-14 21:00:00+00:00', '2020-02-18 21:00:00+00:00',\n",
      "               '2020-02-19 21:00:00+00:00', '2020-02-20 21:00:00+00:00',\n",
      "               '2020-02-21 21:00:00+00:00', '2020-02-24 21:00:00+00:00',\n",
      "               '2020-02-25 21:00:00+00:00', '2020-02-26 21:00:00+00:00',\n",
      "               '2020-02-27 21:00:00+00:00', '2020-02-28 21:00:00+00:00',\n",
      "               '2020-03-02 21:00:00+00:00', '2020-03-03 21:00:00+00:00',\n",
      "               '2020-03-04 21:00:00+00:00', '2020-03-05 21:00:00+00:00',\n",
      "               '2020-03-06 21:00:00+00:00', '2020-03-09 20:00:00+00:00',\n",
      "               '2020-03-10 20:00:00+00:00', '2020-03-11 20:00:00+00:00',\n",
      "               '2020-03-12 20:00:00+00:00', '2020-03-13 20:00:00+00:00'],\n",
      "              dtype='datetime64[ns, UTC]', freq=None)\n",
      "DatetimeIndex(['2020-02-13 21:00:00+00:00', '2020-02-14 21:00:00+00:00',\n",
      "               '2020-02-18 21:00:00+00:00', '2020-02-19 21:00:00+00:00',\n",
      "               '2020-02-20 21:00:00+00:00', '2020-02-21 21:00:00+00:00',\n",
      "               '2020-02-24 21:00:00+00:00', '2020-02-25 21:00:00+00:00',\n",
      "               '2020-02-26 21:00:00+00:00', '2020-02-27 21:00:00+00:00',\n",
      "               '2020-02-28 21:00:00+00:00', '2020-03-02 21:00:00+00:00',\n",
      "               '2020-03-03 21:00:00+00:00', '2020-03-04 21:00:00+00:00',\n",
      "               '2020-03-05 21:00:00+00:00', '2020-03-06 21:00:00+00:00',\n",
      "               '2020-03-09 20:00:00+00:00', '2020-03-10 20:00:00+00:00',\n",
      "               '2020-03-11 20:00:00+00:00', '2020-03-12 20:00:00+00:00',\n",
      "               '2020-03-13 20:00:00+00:00'],\n",
      "              dtype='datetime64[ns, UTC]', freq=None)\n",
      "21\n",
      "[]\n",
      "Waiting for historical data with ID 1004.\n",
      "[(1004, '20200212', 83.96, 84.74, 83.8, 84.57, 7740, 5114, 84.4315, False), (1004, '20200213', 84.57, 85.85, 84.37, 85.75, 6373, 4549, 85.427, False), (1004, '20200214', 86.0, 86.87, 85.8, 86.79, 8097, 5382, 86.478, False), (1004, '20200218', 87.16, 87.33, 86.5, 86.75, 10313, 6671, 86.768, False), (1004, '20200219', 86.64, 86.71, 85.77, 85.88, 10806, 7188, 86.0935, False), (1004, '20200220', 85.55, 85.92, 85.1, 85.66, 14594, 9619, 85.5885, False), (1004, '20200221', 85.66, 86.42, 85.23, 85.34, 13784, 8571, 85.753, False), (1004, '20200224', 85.0, 85.62, 84.54, 84.82, 11686, 7536, 84.995, False), (1004, '20200225', 84.9, 85.32, 83.32, 83.56, 12171, 7833, 84.1785, False), (1004, '20200226', 84.73, 86.47, 84.03, 85.21, 17910, 12073, 85.6375, False), (1004, '20200227', 85.15, 85.81, 81.57, 81.57, 16500, 11840, 83.8795, False), (1004, '20200228', 80.08, 80.28, 77.19, 79.0, 32458, 20198, 78.755, False), (1004, '20200302', 79.29, 84.46, 79.15, 84.42, 18100, 12582, 82.6415, False), (1004, '20200303', 84.17, 86.0, 82.96, 83.16, 13658, 11199, 84.3625, False), (1004, '20200304', 83.75, 87.66, 83.74, 87.07, 12732, 9104, 85.94, False), (1004, '20200305', 85.6, 87.12, 85.11, 86.05, 13275, 9759, 85.919, False), (1004, '20200306', 83.81, 85.69, 81.3, 85.35, 20461, 14693, 83.6345, False), (1004, '20200309', 82.0, 83.37, 80.02, 81.6, 30381, 20631, 81.953, False), (1004, '20200310', 81.99, 83.59, 79.16, 82.59, 19145, 14171, 81.3935, False), (1004, '20200311', 80.96, 81.86, 79.59, 80.87, 16922, 12121, 80.629, False), (1004, '20200312', 75.5, 76.82, 71.04, 72.4, 22439, 16147, 73.4205, False), (1004, 'finished-20200221  20:00:00-20200313  20:00:00', -1, -1, -1, -1, -1, -1, -1, False)]\n",
      "        date   open   high    low  close  volume  count\n",
      "0   20200212  83.96  84.74  83.80  84.57    7740   5114\n",
      "1   20200213  84.57  85.85  84.37  85.75    6373   4549\n",
      "2   20200214  86.00  86.87  85.80  86.79    8097   5382\n",
      "3   20200218  87.16  87.33  86.50  86.75   10313   6671\n",
      "4   20200219  86.64  86.71  85.77  85.88   10806   7188\n",
      "5   20200220  85.55  85.92  85.10  85.66   14594   9619\n",
      "6   20200221  85.66  86.42  85.23  85.34   13784   8571\n",
      "7   20200224  85.00  85.62  84.54  84.82   11686   7536\n",
      "8   20200225  84.90  85.32  83.32  83.56   12171   7833\n",
      "9   20200226  84.73  86.47  84.03  85.21   17910  12073\n",
      "10  20200227  85.15  85.81  81.57  81.57   16500  11840\n",
      "11  20200228  80.08  80.28  77.19  79.00   32458  20198\n",
      "12  20200302  79.29  84.46  79.15  84.42   18100  12582\n",
      "13  20200303  84.17  86.00  82.96  83.16   13658  11199\n",
      "14  20200304  83.75  87.66  83.74  87.07   12732   9104\n",
      "15  20200305  85.60  87.12  85.11  86.05   13275   9759\n",
      "16  20200306  83.81  85.69  81.30  85.35   20461  14693\n",
      "17  20200309  82.00  83.37  80.02  81.60   30381  20631\n",
      "18  20200310  81.99  83.59  79.16  82.59   19145  14171\n",
      "19  20200311  80.96  81.86  79.59  80.87   16922  12121\n",
      "20  20200312  75.50  76.82  71.04  72.40   22439  16147\n",
      "[-1, 2105, 'HMDS data farm connection is broken:ushmds']\n",
      "[-1, 2103, 'Market data farm connection is broken:usfarm']\n",
      "[-1, 2157, 'Sec-def data farm connection is broken:secdefnj']\n",
      "[-1, 2105, 'HMDS data farm connection is broken:fundfarm']\n",
      "[-1, 2103, 'Market data farm connection is broken:afarm']\n",
      "[-1, 2103, 'Market data farm connection is broken:cashfarm']\n",
      "[-1, 2105, 'HMDS data farm connection is broken:euhmds']\n",
      "[-1, 2103, 'Market data farm connection is broken:usfarm.nj']\n",
      "[-1, 2108, 'Market data farm connection is inactive but should be available upon demand.usfarm.nj']\n",
      "[-1, 1100, 'Connectivity between IB and Trader Workstation has been lost.']\n",
      "[-1, 2158, 'Sec-def data farm connection is OK:secdefnj']\n",
      "[-1, 2106, 'HMDS data farm connection is OK:fundfarm']\n",
      "[-1, 2106, 'HMDS data farm connection is OK:ushmds']\n",
      "[-1, 2104, 'Market data farm connection is OK:usfarm']\n",
      "[-1, 2104, 'Market data farm connection is OK:cashfarm']\n",
      "[-1, 2104, 'Market data farm connection is OK:afarm']\n",
      "[-1, 2104, 'Market data farm connection is OK:usfarm.nj']\n",
      "[-1, 2106, 'HMDS data farm connection is OK:euhmds']\n",
      "[-1, 1102, 'Connectivity between IB and Trader Workstation has been restored - data maintained. All data farms are connected: afarm; cashfarm; usfarm; euhmds; fundfarm; ushmds; secdefnj.']\n",
      "[-1, 2103, 'Market data farm connection is broken:afarm']\n",
      "[-1, 2104, 'Market data farm connection is OK:afarm']\n",
      "[-1, 2105, 'HMDS data farm connection is broken:euhmds']\n",
      "[-1, 2106, 'HMDS data farm connection is OK:euhmds']\n",
      "[-1, 1100, 'Connectivity between IB and Trader Workstation has been lost.']\n",
      "[-1, 2157, 'Sec-def data farm connection is broken:secdefnj']\n"
     ]
    }
   ],
   "source": [
    "from datetime import datetime, timedelta\n",
    "import pytz\n",
    "\n",
    "lookback = 20\n",
    "\n",
    "# Get the current date in the NYSE timezone.\n",
    "tz = pytz.timezone('US/Eastern')\n",
    "dt = datetime.now(tz=tz)\n",
    "print(dt)\n",
    "\n",
    "\n",
    "stock = Stock('AEE', lookback, ib)\n",
    "stock.update_data(dt)"
   ]
  },
  {
   "cell_type": "code",
   "execution_count": null,
   "metadata": {},
   "outputs": [],
   "source": []
  }
 ],
 "metadata": {
  "kernelspec": {
   "display_name": "Python 3",
   "language": "python",
   "name": "python3"
  },
  "language_info": {
   "codemirror_mode": {
    "name": "ipython",
    "version": 3
   },
   "file_extension": ".py",
   "mimetype": "text/x-python",
   "name": "python",
   "nbconvert_exporter": "python",
   "pygments_lexer": "ipython3",
   "version": "3.7.6"
  }
 },
 "nbformat": 4,
 "nbformat_minor": 4
}
