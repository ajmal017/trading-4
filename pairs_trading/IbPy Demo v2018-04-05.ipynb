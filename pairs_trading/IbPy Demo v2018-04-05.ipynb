{
 "cells": [
  {
   "cell_type": "markdown",
   "metadata": {},
   "source": [
    "# IbPy and Interactive Brokers Features Demonstration\n",
    "Tested on Python 2\n",
    "\n",
    "## Learning Outcomes\n",
    "At the end of this simple workshop, you will be able to \n",
    "1. Extract Account and Portfolio Information\n",
    "2. Placing Orders\n",
    "3. Request Market Data\n",
    "4. Obtain Historical Data\n",
    "5. Access Market Depth Information\n",
    "6. Download Real Time Bars\n",
    "7. Extract Executions Information, including commission report"
   ]
  },
  {
   "cell_type": "code",
   "execution_count": 1,
   "metadata": {},
   "outputs": [],
   "source": [
    "import warnings\n",
    "warnings.filterwarnings('ignore')\n",
    "import pandas as pd\n",
    "import numpy as np"
   ]
  },
  {
   "cell_type": "code",
   "execution_count": 2,
   "metadata": {},
   "outputs": [],
   "source": [
    "import time\n",
    "from datetime import datetime\n",
    "from IBWrapper import IBWrapper, contract\n",
    "from ib.ext.EClientSocket import EClientSocket\n",
    "from ib.ext.ScannerSubscription import ScannerSubscription"
   ]
  },
  {
   "cell_type": "markdown",
   "metadata": {},
   "source": [
    "In the example to follow, **`callback`** is our `IBWrapper` instantiated. We **receive** information via `callback`.\n",
    "\n",
    "\n",
    "In the example to follow, **`tws`** is our `EClientSocket` instantiated. We **request** information via `tws`"
   ]
  },
  {
   "cell_type": "code",
   "execution_count": 3,
   "metadata": {},
   "outputs": [],
   "source": [
    "accountName = \"DU1272702\"\n",
    "callback = IBWrapper()             # Instantiate IBWrapper. callback \n",
    "tws = EClientSocket(callback)      # Instantiate EClientSocket and return data to callback\n",
    "# host = \"192.168.1.165\"\n",
    "host = \"\"\n",
    "port = 4002\n",
    "clientId = 5563"
   ]
  },
  {
   "cell_type": "code",
   "execution_count": 4,
   "metadata": {},
   "outputs": [
    {
     "name": "stdout",
     "output_type": "stream",
     "text": [
      "Server Version: 76\n",
      "TWS Time at connection:20200313 18:21:11 AEST\n",
      "[-1, 2104, 'Market data farm connection is OK:usfarm.nj']\n",
      "[-1, 2104, 'Market data farm connection is OK:afarm']\n",
      "[-1, 2104, 'Market data farm connection is OK:cashfarm']\n",
      "[-1, 2104, 'Market data farm connection is OK:usfarm']\n",
      "[-1, 2106, 'HMDS data farm connection is OK:euhmds']\n",
      "[-1, 2106, 'HMDS data farm connection is OK:fundfarm']\n",
      "[-1, 2106, 'HMDS data farm connection is OK:ushmds']\n",
      "[-1, 2158, 'Sec-def data farm connection is OK:secdefnj']\n"
     ]
    }
   ],
   "source": [
    "tws.eConnect(host, port, clientId) # Connect to TWS"
   ]
  },
  {
   "cell_type": "code",
   "execution_count": 5,
   "metadata": {},
   "outputs": [],
   "source": [
    "tws.setServerLogLevel(5)           # Set error output to verbose"
   ]
  },
  {
   "cell_type": "code",
   "execution_count": 5,
   "metadata": {},
   "outputs": [],
   "source": [
    "create = contract()                # Instantiate contract class\n",
    "callback.initiate_variables()"
   ]
  },
  {
   "cell_type": "markdown",
   "metadata": {},
   "source": [
    "Note how the work flow goes. We send a request via the prefix **tws.** followed by the request for the specific type of data after the dot for the information we are interested in. \n",
    "\n",
    "For example, we would like to get an update on account time, which required us calling `reqAccountUpdates`. \n",
    "\n",
    "We request for info by calling **`tws.reqAccountUpdates`** and the data will be returned via our callback function. In this case **`callback.update_AccountTime`**"
   ]
  },
  {
   "cell_type": "markdown",
   "metadata": {},
   "source": [
    "*****"
   ]
  },
  {
   "cell_type": "markdown",
   "metadata": {},
   "source": [
    "# Account and Portfolio\n",
    "### Learning Outcomes\n",
    "For this section, you will learn how you can obtain the following information:\n",
    "1. Account Updates\n",
    "   * Account Value\n",
    "   * Portfolio\n",
    "   * Account Time\n",
    "2. Account Summary\n",
    "3. Positions"
   ]
  },
  {
   "cell_type": "markdown",
   "metadata": {},
   "source": [
    "### Summary of Account and Portfolio \n",
    "\n",
    "| Request Call | Functions Utilised | Data Stored in |\n",
    "| --- | --- | --- |\n",
    "| reqAccountUpdates | updateAccountValue | self.update_AccountValue |\n",
    "| | updatePortfolio | self.update_Portfolio |\n",
    "| | updateAccountTime | self.update_AccountTime |\n",
    "| reqAccountSummary | accountSummary | self.account_Summary |\n",
    "| reqPositions | position | self.update_Position |"
   ]
  },
  {
   "cell_type": "markdown",
   "metadata": {},
   "source": [
    "### Sending Account Updates Request\n",
    "`reqAccountUpdates`"
   ]
  },
  {
   "cell_type": "code",
   "execution_count": 6,
   "metadata": {},
   "outputs": [],
   "source": [
    "tws.reqAccountUpdates(1, accountName)"
   ]
  },
  {
   "cell_type": "markdown",
   "metadata": {},
   "source": [
    "#### Obtaining Account Value\n",
    "`self.update_AccountValue`"
   ]
  },
  {
   "cell_type": "code",
   "execution_count": 7,
   "metadata": {
    "scrolled": true
   },
   "outputs": [
    {
     "data": {
      "text/html": [
       "<div>\n",
       "<style scoped>\n",
       "    .dataframe tbody tr th:only-of-type {\n",
       "        vertical-align: middle;\n",
       "    }\n",
       "\n",
       "    .dataframe tbody tr th {\n",
       "        vertical-align: top;\n",
       "    }\n",
       "\n",
       "    .dataframe thead th {\n",
       "        text-align: right;\n",
       "    }\n",
       "</style>\n",
       "<table border=\"1\" class=\"dataframe\">\n",
       "  <thead>\n",
       "    <tr style=\"text-align: right;\">\n",
       "      <th></th>\n",
       "      <th>key</th>\n",
       "      <th>value</th>\n",
       "      <th>currency</th>\n",
       "      <th>accountName</th>\n",
       "    </tr>\n",
       "  </thead>\n",
       "  <tbody>\n",
       "    <tr>\n",
       "      <th>0</th>\n",
       "      <td>AccountCode</td>\n",
       "      <td>DU1272702</td>\n",
       "      <td>None</td>\n",
       "      <td>DU1272702</td>\n",
       "    </tr>\n",
       "    <tr>\n",
       "      <th>1</th>\n",
       "      <td>AccountOrGroup</td>\n",
       "      <td>DU1272702</td>\n",
       "      <td>AUD</td>\n",
       "      <td>DU1272702</td>\n",
       "    </tr>\n",
       "    <tr>\n",
       "      <th>2</th>\n",
       "      <td>AccountOrGroup</td>\n",
       "      <td>DU1272702</td>\n",
       "      <td>BASE</td>\n",
       "      <td>DU1272702</td>\n",
       "    </tr>\n",
       "  </tbody>\n",
       "</table>\n",
       "</div>"
      ],
      "text/plain": [
       "              key      value currency accountName\n",
       "0     AccountCode  DU1272702     None   DU1272702\n",
       "1  AccountOrGroup  DU1272702      AUD   DU1272702\n",
       "2  AccountOrGroup  DU1272702     BASE   DU1272702"
      ]
     },
     "execution_count": 7,
     "metadata": {},
     "output_type": "execute_result"
    }
   ],
   "source": [
    "pd.DataFrame(callback.update_AccountValue, \n",
    "            columns = ['key', 'value', 'currency', 'accountName'])[:3]"
   ]
  },
  {
   "cell_type": "markdown",
   "metadata": {},
   "source": [
    "#### Obtaining Portfolio Value\n",
    "`self.update_Portfolio`"
   ]
  },
  {
   "cell_type": "code",
   "execution_count": 8,
   "metadata": {},
   "outputs": [
    {
     "data": {
      "text/html": [
       "<div>\n",
       "<style scoped>\n",
       "    .dataframe tbody tr th:only-of-type {\n",
       "        vertical-align: middle;\n",
       "    }\n",
       "\n",
       "    .dataframe tbody tr th {\n",
       "        vertical-align: top;\n",
       "    }\n",
       "\n",
       "    .dataframe thead th {\n",
       "        text-align: right;\n",
       "    }\n",
       "</style>\n",
       "<table border=\"1\" class=\"dataframe\">\n",
       "  <thead>\n",
       "    <tr style=\"text-align: right;\">\n",
       "      <th></th>\n",
       "      <th>Contract ID</th>\n",
       "      <th>Currency</th>\n",
       "      <th>Expiry</th>\n",
       "      <th>Include Expired</th>\n",
       "      <th>Local Symbol</th>\n",
       "      <th>Multiplier</th>\n",
       "      <th>Primary Exchange</th>\n",
       "      <th>Right</th>\n",
       "      <th>Security Type</th>\n",
       "      <th>Strike</th>\n",
       "      <th>Symbol</th>\n",
       "      <th>Trading Class</th>\n",
       "      <th>Position</th>\n",
       "      <th>Market Price</th>\n",
       "      <th>Market Value</th>\n",
       "      <th>Average Cost</th>\n",
       "      <th>Unrealised PnL</th>\n",
       "      <th>Realised PnL</th>\n",
       "      <th>Account Name</th>\n",
       "    </tr>\n",
       "  </thead>\n",
       "  <tbody>\n",
       "  </tbody>\n",
       "</table>\n",
       "</div>"
      ],
      "text/plain": [
       "Empty DataFrame\n",
       "Columns: [Contract ID, Currency, Expiry, Include Expired, Local Symbol, Multiplier, Primary Exchange, Right, Security Type, Strike, Symbol, Trading Class, Position, Market Price, Market Value, Average Cost, Unrealised PnL, Realised PnL, Account Name]\n",
       "Index: []"
      ]
     },
     "execution_count": 8,
     "metadata": {},
     "output_type": "execute_result"
    }
   ],
   "source": [
    "pd.DataFrame(callback.update_Portfolio, \n",
    "             columns=['Contract ID','Currency',\n",
    "                      'Expiry','Include Expired',\n",
    "                      'Local Symbol','Multiplier',\n",
    "                      'Primary Exchange','Right',\n",
    "                      'Security Type','Strike',\n",
    "                      'Symbol','Trading Class',\n",
    "                      'Position','Market Price','Market Value',\n",
    "                      'Average Cost', 'Unrealised PnL', 'Realised PnL', \n",
    "                      'Account Name'])[:3]"
   ]
  },
  {
   "cell_type": "markdown",
   "metadata": {},
   "source": [
    "#### Obtaining Account Time\n",
    "`self.update_AccountTime`"
   ]
  },
  {
   "cell_type": "code",
   "execution_count": 9,
   "metadata": {},
   "outputs": [
    {
     "data": {
      "text/plain": [
       "'18:23'"
      ]
     },
     "execution_count": 9,
     "metadata": {},
     "output_type": "execute_result"
    }
   ],
   "source": [
    "callback.update_AccountTime"
   ]
  },
  {
   "cell_type": "markdown",
   "metadata": {},
   "source": [
    "### Sending Account Summary Request\n",
    "`reqAccountSummary`\n",
    "\n",
    "This function call can only be made when connected to a Financial Advisor (FA) account. Another way to look at this is that if you have more than one account, use this function."
   ]
  },
  {
   "cell_type": "code",
   "execution_count": 10,
   "metadata": {},
   "outputs": [],
   "source": [
    "tws.reqAccountSummary(2,\"All\",\"NetLiquidation\")"
   ]
  },
  {
   "cell_type": "markdown",
   "metadata": {},
   "source": [
    "#### Obtaining Account Summary\n",
    "`self.account_Summary`"
   ]
  },
  {
   "cell_type": "code",
   "execution_count": 11,
   "metadata": {
    "scrolled": true
   },
   "outputs": [
    {
     "data": {
      "text/html": [
       "<div>\n",
       "<style scoped>\n",
       "    .dataframe tbody tr th:only-of-type {\n",
       "        vertical-align: middle;\n",
       "    }\n",
       "\n",
       "    .dataframe tbody tr th {\n",
       "        vertical-align: top;\n",
       "    }\n",
       "\n",
       "    .dataframe thead th {\n",
       "        text-align: right;\n",
       "    }\n",
       "</style>\n",
       "<table border=\"1\" class=\"dataframe\">\n",
       "  <thead>\n",
       "    <tr style=\"text-align: right;\">\n",
       "      <th></th>\n",
       "      <th>Request_ID</th>\n",
       "      <th>Account</th>\n",
       "      <th>Tag</th>\n",
       "      <th>Value</th>\n",
       "      <th>Curency</th>\n",
       "    </tr>\n",
       "  </thead>\n",
       "  <tbody>\n",
       "    <tr>\n",
       "      <th>0</th>\n",
       "      <td>2</td>\n",
       "      <td>DU1272702</td>\n",
       "      <td>NetLiquidation</td>\n",
       "      <td>7936.17</td>\n",
       "      <td>USD</td>\n",
       "    </tr>\n",
       "  </tbody>\n",
       "</table>\n",
       "</div>"
      ],
      "text/plain": [
       "   Request_ID    Account             Tag    Value Curency\n",
       "0           2  DU1272702  NetLiquidation  7936.17     USD"
      ]
     },
     "execution_count": 11,
     "metadata": {},
     "output_type": "execute_result"
    },
    {
     "name": "stdout",
     "output_type": "stream",
     "text": [
      "[-1, 1100, 'Connectivity between IB and Trader Workstation has been lost.']\n",
      "[-1, 2105, 'HMDS data farm connection is broken:ushmds']\n",
      "[-1, 2103, 'Market data farm connection is broken:usfarm.nj']\n",
      "[-1, 2157, 'Sec-def data farm connection is broken:secdefnj']\n"
     ]
    }
   ],
   "source": [
    "pd.DataFrame(callback.account_Summary, \n",
    "             columns = ['Request_ID','Account','Tag','Value','Curency'])[:2]"
   ]
  },
  {
   "cell_type": "markdown",
   "metadata": {},
   "source": [
    "### Sending Position Request\n",
    "`reqPositions`\n",
    "\n",
    "This function call request all positions for all accounts. This is more suitable for Financial Advisor. In the following example, I used pandas selection criteria to disply a specific account position."
   ]
  },
  {
   "cell_type": "code",
   "execution_count": null,
   "metadata": {
    "collapsed": true
   },
   "outputs": [],
   "source": [
    "tws.reqPositions()"
   ]
  },
  {
   "cell_type": "markdown",
   "metadata": {},
   "source": [
    "#### Obtaining Position\n",
    "`self.update_Position`"
   ]
  },
  {
   "cell_type": "code",
   "execution_count": null,
   "metadata": {
    "scrolled": true
   },
   "outputs": [],
   "source": [
    "dat = pd.DataFrame(callback.update_Position, \n",
    "                   columns=['Account','Contract ID','Currency','Exchange','Expiry',\n",
    "                            'Include Expired','Local Symbol','Multiplier','Right',\n",
    "                            'Security Type','Strike','Symbol','Trading Class',\n",
    "                            'Position','Average Cost'])\n",
    "dat[dat[\"Account\"] == accountName]"
   ]
  },
  {
   "cell_type": "markdown",
   "metadata": {},
   "source": [
    "*****"
   ]
  },
  {
   "cell_type": "markdown",
   "metadata": {},
   "source": [
    "# Orders\n",
    "### Learning Outcomes\n",
    "For this section, you will learn how you can obtain the following information:\n",
    "1. Open Order\n",
    "2. Next Valid ID\n",
    "3. Order Status"
   ]
  },
  {
   "cell_type": "markdown",
   "metadata": {},
   "source": [
    "### Summary of Orders\n",
    "\n",
    "| Request Call | Functions Utilised | Data Stored in |\n",
    "| --- | --- | --- |\n",
    "| reqIds | nextValidId | self.next_ValidId |\n",
    "| placeOrder | orderStatus | self.order_Status |\n",
    "| cancelOrder | | |\n",
    "| reqOpenOrders & reqAllOpenOrders | openOrder | self.open_Order |\n",
    "| | orderStatus | self.order_Status |\n",
    "| reqGlobalCancel | | |"
   ]
  },
  {
   "cell_type": "markdown",
   "metadata": {},
   "source": [
    "#### Demo - Stock Purchase\n",
    "* ** Request Next Valid Id**. `reqIds`\n",
    "* ** Using Create**. `create`"
   ]
  },
  {
   "cell_type": "code",
   "execution_count": 7,
   "metadata": {},
   "outputs": [],
   "source": [
    "tws.reqIds(1)\n",
    "order_id = callback.next_ValidId + 1\n",
    "contract_info = create.create_contract(\"GOOG\", \"STK\", \"SMART\", \"USD\")\n",
    "order_info = create.create_order(accountName, \"MKT\", 250, \"BUY\")"
   ]
  },
  {
   "cell_type": "markdown",
   "metadata": {},
   "source": [
    "#### Placing an Order\n",
    "`placeOrder`"
   ]
  },
  {
   "cell_type": "code",
   "execution_count": 8,
   "metadata": {},
   "outputs": [],
   "source": [
    "tws.placeOrder(order_id, contract_info, order_info)"
   ]
  },
  {
   "cell_type": "markdown",
   "metadata": {},
   "source": [
    "#### Checking Order Status\n",
    "`self.order_Status`"
   ]
  },
  {
   "cell_type": "code",
   "execution_count": 9,
   "metadata": {},
   "outputs": [
    {
     "data": {
      "text/html": [
       "<div>\n",
       "<style>\n",
       "    .dataframe thead tr:only-child th {\n",
       "        text-align: right;\n",
       "    }\n",
       "\n",
       "    .dataframe thead th {\n",
       "        text-align: left;\n",
       "    }\n",
       "\n",
       "    .dataframe tbody tr th {\n",
       "        vertical-align: top;\n",
       "    }\n",
       "</style>\n",
       "<table border=\"1\" class=\"dataframe\">\n",
       "  <thead>\n",
       "    <tr style=\"text-align: right;\">\n",
       "      <th></th>\n",
       "      <th>orderId</th>\n",
       "      <th>status</th>\n",
       "      <th>filled</th>\n",
       "      <th>remaining</th>\n",
       "      <th>avgFillPrice</th>\n",
       "      <th>permId</th>\n",
       "      <th>parentId</th>\n",
       "      <th>lastFillPrice</th>\n",
       "      <th>clientId</th>\n",
       "      <th>whyHeld</th>\n",
       "    </tr>\n",
       "  </thead>\n",
       "  <tbody>\n",
       "    <tr>\n",
       "      <th>0</th>\n",
       "      <td>2</td>\n",
       "      <td>PreSubmitted</td>\n",
       "      <td>0</td>\n",
       "      <td>250</td>\n",
       "      <td>0.00</td>\n",
       "      <td>848701290</td>\n",
       "      <td>0</td>\n",
       "      <td>0.00</td>\n",
       "      <td>5563</td>\n",
       "      <td>locate</td>\n",
       "    </tr>\n",
       "    <tr>\n",
       "      <th>1</th>\n",
       "      <td>2</td>\n",
       "      <td>PreSubmitted</td>\n",
       "      <td>150</td>\n",
       "      <td>100</td>\n",
       "      <td>1034.45</td>\n",
       "      <td>848701290</td>\n",
       "      <td>0</td>\n",
       "      <td>1034.45</td>\n",
       "      <td>5563</td>\n",
       "      <td>locate</td>\n",
       "    </tr>\n",
       "    <tr>\n",
       "      <th>2</th>\n",
       "      <td>2</td>\n",
       "      <td>Submitted</td>\n",
       "      <td>150</td>\n",
       "      <td>100</td>\n",
       "      <td>1034.45</td>\n",
       "      <td>848701290</td>\n",
       "      <td>0</td>\n",
       "      <td>1034.45</td>\n",
       "      <td>5563</td>\n",
       "      <td>None</td>\n",
       "    </tr>\n",
       "    <tr>\n",
       "      <th>3</th>\n",
       "      <td>2</td>\n",
       "      <td>Filled</td>\n",
       "      <td>250</td>\n",
       "      <td>0</td>\n",
       "      <td>1034.45</td>\n",
       "      <td>848701290</td>\n",
       "      <td>0</td>\n",
       "      <td>1034.45</td>\n",
       "      <td>5563</td>\n",
       "      <td>None</td>\n",
       "    </tr>\n",
       "    <tr>\n",
       "      <th>4</th>\n",
       "      <td>2</td>\n",
       "      <td>Filled</td>\n",
       "      <td>250</td>\n",
       "      <td>0</td>\n",
       "      <td>1034.45</td>\n",
       "      <td>848701290</td>\n",
       "      <td>0</td>\n",
       "      <td>1034.45</td>\n",
       "      <td>5563</td>\n",
       "      <td>None</td>\n",
       "    </tr>\n",
       "    <tr>\n",
       "      <th>5</th>\n",
       "      <td>2</td>\n",
       "      <td>Filled</td>\n",
       "      <td>250</td>\n",
       "      <td>0</td>\n",
       "      <td>1034.45</td>\n",
       "      <td>848701290</td>\n",
       "      <td>0</td>\n",
       "      <td>1034.45</td>\n",
       "      <td>5563</td>\n",
       "      <td>None</td>\n",
       "    </tr>\n",
       "  </tbody>\n",
       "</table>\n",
       "</div>"
      ],
      "text/plain": [
       "   orderId        status  filled  remaining  avgFillPrice     permId  \\\n",
       "0        2  PreSubmitted       0        250          0.00  848701290   \n",
       "1        2  PreSubmitted     150        100       1034.45  848701290   \n",
       "2        2     Submitted     150        100       1034.45  848701290   \n",
       "3        2        Filled     250          0       1034.45  848701290   \n",
       "4        2        Filled     250          0       1034.45  848701290   \n",
       "5        2        Filled     250          0       1034.45  848701290   \n",
       "\n",
       "   parentId  lastFillPrice  clientId whyHeld  \n",
       "0         0           0.00      5563  locate  \n",
       "1         0        1034.45      5563  locate  \n",
       "2         0        1034.45      5563    None  \n",
       "3         0        1034.45      5563    None  \n",
       "4         0        1034.45      5563    None  \n",
       "5         0        1034.45      5563    None  "
      ]
     },
     "execution_count": 9,
     "metadata": {},
     "output_type": "execute_result"
    }
   ],
   "source": [
    "pd.DataFrame(callback.order_Status,\n",
    "             columns = ['orderId', 'status', 'filled', 'remaining', 'avgFillPrice',\n",
    "                        'permId', 'parentId', 'lastFillPrice', 'clientId', 'whyHeld'])"
   ]
  },
  {
   "cell_type": "markdown",
   "metadata": {},
   "source": [
    "## Limit Order"
   ]
  },
  {
   "cell_type": "code",
   "execution_count": 16,
   "metadata": {},
   "outputs": [],
   "source": [
    "tws.reqIds(1)\n",
    "order_id = callback.next_ValidId + 1\n",
    "contract_info = create.create_contract(\"GOOG\", \"STK\", \"SMART\", \"USD\")\n",
    "order_info = create.create_order(accountName, \"LMT\", 450, \"BUY\", 1000)"
   ]
  },
  {
   "cell_type": "code",
   "execution_count": 17,
   "metadata": {},
   "outputs": [],
   "source": [
    "tws.placeOrder(order_id, contract_info, order_info)"
   ]
  },
  {
   "cell_type": "code",
   "execution_count": 18,
   "metadata": {},
   "outputs": [
    {
     "data": {
      "text/html": [
       "<div>\n",
       "<style>\n",
       "    .dataframe thead tr:only-child th {\n",
       "        text-align: right;\n",
       "    }\n",
       "\n",
       "    .dataframe thead th {\n",
       "        text-align: left;\n",
       "    }\n",
       "\n",
       "    .dataframe tbody tr th {\n",
       "        vertical-align: top;\n",
       "    }\n",
       "</style>\n",
       "<table border=\"1\" class=\"dataframe\">\n",
       "  <thead>\n",
       "    <tr style=\"text-align: right;\">\n",
       "      <th></th>\n",
       "      <th>orderId</th>\n",
       "      <th>status</th>\n",
       "      <th>filled</th>\n",
       "      <th>remaining</th>\n",
       "      <th>avgFillPrice</th>\n",
       "      <th>permId</th>\n",
       "      <th>parentId</th>\n",
       "      <th>lastFillPrice</th>\n",
       "      <th>clientId</th>\n",
       "      <th>whyHeld</th>\n",
       "    </tr>\n",
       "  </thead>\n",
       "  <tbody>\n",
       "    <tr>\n",
       "      <th>0</th>\n",
       "      <td>2</td>\n",
       "      <td>PreSubmitted</td>\n",
       "      <td>0</td>\n",
       "      <td>250</td>\n",
       "      <td>0.00</td>\n",
       "      <td>848701290</td>\n",
       "      <td>0</td>\n",
       "      <td>0.00</td>\n",
       "      <td>5563</td>\n",
       "      <td>locate</td>\n",
       "    </tr>\n",
       "    <tr>\n",
       "      <th>1</th>\n",
       "      <td>2</td>\n",
       "      <td>PreSubmitted</td>\n",
       "      <td>150</td>\n",
       "      <td>100</td>\n",
       "      <td>1034.45</td>\n",
       "      <td>848701290</td>\n",
       "      <td>0</td>\n",
       "      <td>1034.45</td>\n",
       "      <td>5563</td>\n",
       "      <td>locate</td>\n",
       "    </tr>\n",
       "    <tr>\n",
       "      <th>2</th>\n",
       "      <td>2</td>\n",
       "      <td>Submitted</td>\n",
       "      <td>150</td>\n",
       "      <td>100</td>\n",
       "      <td>1034.45</td>\n",
       "      <td>848701290</td>\n",
       "      <td>0</td>\n",
       "      <td>1034.45</td>\n",
       "      <td>5563</td>\n",
       "      <td>None</td>\n",
       "    </tr>\n",
       "    <tr>\n",
       "      <th>3</th>\n",
       "      <td>2</td>\n",
       "      <td>Filled</td>\n",
       "      <td>250</td>\n",
       "      <td>0</td>\n",
       "      <td>1034.45</td>\n",
       "      <td>848701290</td>\n",
       "      <td>0</td>\n",
       "      <td>1034.45</td>\n",
       "      <td>5563</td>\n",
       "      <td>None</td>\n",
       "    </tr>\n",
       "    <tr>\n",
       "      <th>4</th>\n",
       "      <td>2</td>\n",
       "      <td>Filled</td>\n",
       "      <td>250</td>\n",
       "      <td>0</td>\n",
       "      <td>1034.45</td>\n",
       "      <td>848701290</td>\n",
       "      <td>0</td>\n",
       "      <td>1034.45</td>\n",
       "      <td>5563</td>\n",
       "      <td>None</td>\n",
       "    </tr>\n",
       "    <tr>\n",
       "      <th>5</th>\n",
       "      <td>2</td>\n",
       "      <td>Filled</td>\n",
       "      <td>250</td>\n",
       "      <td>0</td>\n",
       "      <td>1034.45</td>\n",
       "      <td>848701290</td>\n",
       "      <td>0</td>\n",
       "      <td>1034.45</td>\n",
       "      <td>5563</td>\n",
       "      <td>None</td>\n",
       "    </tr>\n",
       "    <tr>\n",
       "      <th>6</th>\n",
       "      <td>5</td>\n",
       "      <td>Submitted</td>\n",
       "      <td>0</td>\n",
       "      <td>450</td>\n",
       "      <td>0.00</td>\n",
       "      <td>848701291</td>\n",
       "      <td>0</td>\n",
       "      <td>0.00</td>\n",
       "      <td>5563</td>\n",
       "      <td>None</td>\n",
       "    </tr>\n",
       "    <tr>\n",
       "      <th>7</th>\n",
       "      <td>5</td>\n",
       "      <td>Submitted</td>\n",
       "      <td>0</td>\n",
       "      <td>450</td>\n",
       "      <td>0.00</td>\n",
       "      <td>848701291</td>\n",
       "      <td>0</td>\n",
       "      <td>0.00</td>\n",
       "      <td>5563</td>\n",
       "      <td>None</td>\n",
       "    </tr>\n",
       "  </tbody>\n",
       "</table>\n",
       "</div>"
      ],
      "text/plain": [
       "   orderId        status  filled  remaining  avgFillPrice     permId  \\\n",
       "0        2  PreSubmitted       0        250          0.00  848701290   \n",
       "1        2  PreSubmitted     150        100       1034.45  848701290   \n",
       "2        2     Submitted     150        100       1034.45  848701290   \n",
       "3        2        Filled     250          0       1034.45  848701290   \n",
       "4        2        Filled     250          0       1034.45  848701290   \n",
       "5        2        Filled     250          0       1034.45  848701290   \n",
       "6        5     Submitted       0        450          0.00  848701291   \n",
       "7        5     Submitted       0        450          0.00  848701291   \n",
       "\n",
       "   parentId  lastFillPrice  clientId whyHeld  \n",
       "0         0           0.00      5563  locate  \n",
       "1         0        1034.45      5563  locate  \n",
       "2         0        1034.45      5563    None  \n",
       "3         0        1034.45      5563    None  \n",
       "4         0        1034.45      5563    None  \n",
       "5         0        1034.45      5563    None  \n",
       "6         0           0.00      5563    None  \n",
       "7         0           0.00      5563    None  "
      ]
     },
     "execution_count": 18,
     "metadata": {},
     "output_type": "execute_result"
    }
   ],
   "source": [
    "pd.DataFrame(callback.order_Status,\n",
    "             columns = ['orderId', 'status', 'filled', 'remaining', 'avgFillPrice',\n",
    "                        'permId', 'parentId', 'lastFillPrice', 'clientId', 'whyHeld'])"
   ]
  },
  {
   "cell_type": "markdown",
   "metadata": {},
   "source": [
    "#### Checking on Open Order\n",
    "`self.open_Order`"
   ]
  },
  {
   "cell_type": "code",
   "execution_count": 19,
   "metadata": {},
   "outputs": [
    {
     "data": {
      "text/plain": [
       "[(2,\n",
       "  <ib.ext.Contract.Contract at 0x10f50c198>,\n",
       "  <ib.ext.Order.Order at 0x10f50c048>,\n",
       "  <ib.ext.OrderState.OrderState at 0x113cadb00>)]"
      ]
     },
     "execution_count": 19,
     "metadata": {},
     "output_type": "execute_result"
    }
   ],
   "source": [
    "callback.open_Order[:1]"
   ]
  },
  {
   "cell_type": "markdown",
   "metadata": {},
   "source": [
    "#### Cancelling Open Order\n",
    "`cancelOrder`"
   ]
  },
  {
   "cell_type": "code",
   "execution_count": 20,
   "metadata": {},
   "outputs": [
    {
     "name": "stdout",
     "output_type": "stream",
     "text": [
      "[5, 202, 'Order Canceled - reason:']\n"
     ]
    }
   ],
   "source": [
    "tws.cancelOrder(order_id)"
   ]
  },
  {
   "cell_type": "markdown",
   "metadata": {},
   "source": [
    "#### Demo\n",
    "* ** Request Next Valid Id**. `reqIds`\n",
    "* ** Using Create**. `create`\n",
    "* ** Placing an Order to purchase Futures**. `placeOrder`"
   ]
  },
  {
   "cell_type": "code",
   "execution_count": 25,
   "metadata": {},
   "outputs": [],
   "source": [
    "tws.reqIds(1)\n",
    "order_id = callback.next_ValidId + 1\n",
    "contract_info = create.create_contract(symbol = \"ES\", secType = \"FUT\", \n",
    "                                       exchange = \"GLOBEX\", currency = \"USD\", \n",
    "                                       right = None, strike = None,\n",
    "                                       expiry = \"201806\", multiplier=None,\n",
    "                                       tradingClass=None)\n",
    "order_info = create.create_order(accountName, \"MKT\", 1, \"BUY\")\n",
    "tws.placeOrder(order_id, contract_info, order_info)"
   ]
  },
  {
   "cell_type": "markdown",
   "metadata": {},
   "source": [
    "#### Checking Order Status"
   ]
  },
  {
   "cell_type": "code",
   "execution_count": 26,
   "metadata": {
    "scrolled": false
   },
   "outputs": [
    {
     "data": {
      "text/html": [
       "<div>\n",
       "<style>\n",
       "    .dataframe thead tr:only-child th {\n",
       "        text-align: right;\n",
       "    }\n",
       "\n",
       "    .dataframe thead th {\n",
       "        text-align: left;\n",
       "    }\n",
       "\n",
       "    .dataframe tbody tr th {\n",
       "        vertical-align: top;\n",
       "    }\n",
       "</style>\n",
       "<table border=\"1\" class=\"dataframe\">\n",
       "  <thead>\n",
       "    <tr style=\"text-align: right;\">\n",
       "      <th></th>\n",
       "      <th>orderId</th>\n",
       "      <th>status</th>\n",
       "      <th>filled</th>\n",
       "      <th>remaining</th>\n",
       "      <th>avgFillPrice</th>\n",
       "      <th>permId</th>\n",
       "      <th>parentId</th>\n",
       "      <th>lastFillPrice</th>\n",
       "      <th>clientId</th>\n",
       "      <th>whyHeld</th>\n",
       "    </tr>\n",
       "  </thead>\n",
       "  <tbody>\n",
       "    <tr>\n",
       "      <th>0</th>\n",
       "      <td>2</td>\n",
       "      <td>PreSubmitted</td>\n",
       "      <td>0</td>\n",
       "      <td>250</td>\n",
       "      <td>0.00</td>\n",
       "      <td>848701290</td>\n",
       "      <td>0</td>\n",
       "      <td>0.00</td>\n",
       "      <td>5563</td>\n",
       "      <td>locate</td>\n",
       "    </tr>\n",
       "    <tr>\n",
       "      <th>1</th>\n",
       "      <td>2</td>\n",
       "      <td>PreSubmitted</td>\n",
       "      <td>150</td>\n",
       "      <td>100</td>\n",
       "      <td>1034.45</td>\n",
       "      <td>848701290</td>\n",
       "      <td>0</td>\n",
       "      <td>1034.45</td>\n",
       "      <td>5563</td>\n",
       "      <td>locate</td>\n",
       "    </tr>\n",
       "    <tr>\n",
       "      <th>2</th>\n",
       "      <td>2</td>\n",
       "      <td>Submitted</td>\n",
       "      <td>150</td>\n",
       "      <td>100</td>\n",
       "      <td>1034.45</td>\n",
       "      <td>848701290</td>\n",
       "      <td>0</td>\n",
       "      <td>1034.45</td>\n",
       "      <td>5563</td>\n",
       "      <td>None</td>\n",
       "    </tr>\n",
       "    <tr>\n",
       "      <th>3</th>\n",
       "      <td>2</td>\n",
       "      <td>Filled</td>\n",
       "      <td>250</td>\n",
       "      <td>0</td>\n",
       "      <td>1034.45</td>\n",
       "      <td>848701290</td>\n",
       "      <td>0</td>\n",
       "      <td>1034.45</td>\n",
       "      <td>5563</td>\n",
       "      <td>None</td>\n",
       "    </tr>\n",
       "    <tr>\n",
       "      <th>4</th>\n",
       "      <td>2</td>\n",
       "      <td>Filled</td>\n",
       "      <td>250</td>\n",
       "      <td>0</td>\n",
       "      <td>1034.45</td>\n",
       "      <td>848701290</td>\n",
       "      <td>0</td>\n",
       "      <td>1034.45</td>\n",
       "      <td>5563</td>\n",
       "      <td>None</td>\n",
       "    </tr>\n",
       "    <tr>\n",
       "      <th>5</th>\n",
       "      <td>2</td>\n",
       "      <td>Filled</td>\n",
       "      <td>250</td>\n",
       "      <td>0</td>\n",
       "      <td>1034.45</td>\n",
       "      <td>848701290</td>\n",
       "      <td>0</td>\n",
       "      <td>1034.45</td>\n",
       "      <td>5563</td>\n",
       "      <td>None</td>\n",
       "    </tr>\n",
       "    <tr>\n",
       "      <th>6</th>\n",
       "      <td>5</td>\n",
       "      <td>Submitted</td>\n",
       "      <td>0</td>\n",
       "      <td>450</td>\n",
       "      <td>0.00</td>\n",
       "      <td>848701291</td>\n",
       "      <td>0</td>\n",
       "      <td>0.00</td>\n",
       "      <td>5563</td>\n",
       "      <td>None</td>\n",
       "    </tr>\n",
       "    <tr>\n",
       "      <th>7</th>\n",
       "      <td>5</td>\n",
       "      <td>Submitted</td>\n",
       "      <td>0</td>\n",
       "      <td>450</td>\n",
       "      <td>0.00</td>\n",
       "      <td>848701291</td>\n",
       "      <td>0</td>\n",
       "      <td>0.00</td>\n",
       "      <td>5563</td>\n",
       "      <td>None</td>\n",
       "    </tr>\n",
       "    <tr>\n",
       "      <th>8</th>\n",
       "      <td>5</td>\n",
       "      <td>Cancelled</td>\n",
       "      <td>0</td>\n",
       "      <td>450</td>\n",
       "      <td>0.00</td>\n",
       "      <td>848701291</td>\n",
       "      <td>0</td>\n",
       "      <td>0.00</td>\n",
       "      <td>5563</td>\n",
       "      <td>None</td>\n",
       "    </tr>\n",
       "    <tr>\n",
       "      <th>9</th>\n",
       "      <td>14</td>\n",
       "      <td>PreSubmitted</td>\n",
       "      <td>0</td>\n",
       "      <td>1</td>\n",
       "      <td>0.00</td>\n",
       "      <td>848701292</td>\n",
       "      <td>0</td>\n",
       "      <td>0.00</td>\n",
       "      <td>5563</td>\n",
       "      <td>locate</td>\n",
       "    </tr>\n",
       "    <tr>\n",
       "      <th>10</th>\n",
       "      <td>14</td>\n",
       "      <td>Filled</td>\n",
       "      <td>1</td>\n",
       "      <td>0</td>\n",
       "      <td>2657.25</td>\n",
       "      <td>848701292</td>\n",
       "      <td>0</td>\n",
       "      <td>2657.25</td>\n",
       "      <td>5563</td>\n",
       "      <td>None</td>\n",
       "    </tr>\n",
       "    <tr>\n",
       "      <th>11</th>\n",
       "      <td>14</td>\n",
       "      <td>Filled</td>\n",
       "      <td>1</td>\n",
       "      <td>0</td>\n",
       "      <td>2657.25</td>\n",
       "      <td>848701292</td>\n",
       "      <td>0</td>\n",
       "      <td>2657.25</td>\n",
       "      <td>5563</td>\n",
       "      <td>None</td>\n",
       "    </tr>\n",
       "  </tbody>\n",
       "</table>\n",
       "</div>"
      ],
      "text/plain": [
       "    orderId        status  filled  remaining  avgFillPrice     permId  \\\n",
       "0         2  PreSubmitted       0        250          0.00  848701290   \n",
       "1         2  PreSubmitted     150        100       1034.45  848701290   \n",
       "2         2     Submitted     150        100       1034.45  848701290   \n",
       "3         2        Filled     250          0       1034.45  848701290   \n",
       "4         2        Filled     250          0       1034.45  848701290   \n",
       "5         2        Filled     250          0       1034.45  848701290   \n",
       "6         5     Submitted       0        450          0.00  848701291   \n",
       "7         5     Submitted       0        450          0.00  848701291   \n",
       "8         5     Cancelled       0        450          0.00  848701291   \n",
       "9        14  PreSubmitted       0          1          0.00  848701292   \n",
       "10       14        Filled       1          0       2657.25  848701292   \n",
       "11       14        Filled       1          0       2657.25  848701292   \n",
       "\n",
       "    parentId  lastFillPrice  clientId whyHeld  \n",
       "0          0           0.00      5563  locate  \n",
       "1          0        1034.45      5563  locate  \n",
       "2          0        1034.45      5563    None  \n",
       "3          0        1034.45      5563    None  \n",
       "4          0        1034.45      5563    None  \n",
       "5          0        1034.45      5563    None  \n",
       "6          0           0.00      5563    None  \n",
       "7          0           0.00      5563    None  \n",
       "8          0           0.00      5563    None  \n",
       "9          0           0.00      5563  locate  \n",
       "10         0        2657.25      5563    None  \n",
       "11         0        2657.25      5563    None  "
      ]
     },
     "execution_count": 26,
     "metadata": {},
     "output_type": "execute_result"
    }
   ],
   "source": [
    "pd.DataFrame(callback.order_Status,\n",
    "             columns = ['orderId', 'status', 'filled', 'remaining', 'avgFillPrice',\n",
    "                        'permId', 'parentId', 'lastFillPrice', 'clientId', 'whyHeld'])"
   ]
  },
  {
   "cell_type": "markdown",
   "metadata": {},
   "source": [
    "IB provided two more methods:\n",
    "* `reqOpenOrders()` to request any open orders that were placed from this API client.\n",
    "* `reqAllOpenOrders()` to request all open orders that were placed from all API clients linked to one TWS and also from the TWS.\n",
    "\n",
    "Each open order will be fed back through `openOrder()` and `orderStatus()` methods."
   ]
  },
  {
   "cell_type": "markdown",
   "metadata": {},
   "source": [
    "Finally, use `reqGlobalCancel()` to cancel all open orders globally."
   ]
  },
  {
   "cell_type": "markdown",
   "metadata": {},
   "source": [
    "*****"
   ]
  },
  {
   "cell_type": "markdown",
   "metadata": {
    "collapsed": true
   },
   "source": [
    "# Market Data\n",
    "### Learning Outcomes\n",
    "For this section, you will learn how you can obtain the following information:\n",
    "1. Request Market Data\n",
    "   * Tick Price\n",
    "   * Tick Size\n",
    "2. Cancel Market Data\n",
    "3. Calculate Implied Volatility\n",
    "4. Calculate Option Price"
   ]
  },
  {
   "cell_type": "markdown",
   "metadata": {},
   "source": [
    "### Summary of Market Data\n",
    "\n",
    "| Request Call | Functions Utilised | Data Stored in |\n",
    "| --- | --- | --- |\n",
    "| reqMktData | tickPrice  | self.tick_Price |\n",
    "|  | tickSize | self.tick_Size |\n",
    "|  | tickOptionComputation  | self.tick_OptionComputation |\n",
    "|  | tickGeneric | self.tick_Generic |\n",
    "|  | tickString | self.tick_String |\n",
    "|  | tickEFP  | self.tick_EFP |\n",
    "|  | tickSnapshotEnd | self.tickSnapshotEnd_flag |\n",
    "| cancelMktData | | |\n",
    "| calculateImpliedVolatility | tickOptionComputation  | self.tick_OptionComputation |\n",
    "| cancelcalculateImpliedVolatility | | |\n",
    "| calculateOptionPrice  | tickOptionComputation  | self.tick_OptionComputation |\n",
    "| cancelCalculateOptionPrice | | |\n",
    "| reqMktDataType | marketDataType | self.market_DataType |\n",
    "\n",
    "The method `reqMktDataType` allows you to toggle between receiving real-time or frozen market data."
   ]
  },
  {
   "cell_type": "markdown",
   "metadata": {},
   "source": [
    "#### Requesting Market Data\n",
    "`reqMktData`"
   ]
  },
  {
   "cell_type": "code",
   "execution_count": 27,
   "metadata": {},
   "outputs": [],
   "source": [
    "contract_info = create.create_contract('EUR', 'CASH', 'IDEALPRO', 'USD')\n",
    "tickedId = 1002\n",
    "tws.reqMktData(tickedId, contract_info, \"\", False)"
   ]
  },
  {
   "cell_type": "markdown",
   "metadata": {},
   "source": [
    "#### Receiving Tick Price\n",
    "`self.tick_Price`"
   ]
  },
  {
   "cell_type": "code",
   "execution_count": 28,
   "metadata": {},
   "outputs": [
    {
     "data": {
      "text/html": [
       "<div>\n",
       "<style>\n",
       "    .dataframe thead tr:only-child th {\n",
       "        text-align: right;\n",
       "    }\n",
       "\n",
       "    .dataframe thead th {\n",
       "        text-align: left;\n",
       "    }\n",
       "\n",
       "    .dataframe tbody tr th {\n",
       "        vertical-align: top;\n",
       "    }\n",
       "</style>\n",
       "<table border=\"1\" class=\"dataframe\">\n",
       "  <thead>\n",
       "    <tr style=\"text-align: right;\">\n",
       "      <th></th>\n",
       "      <th>tickerId</th>\n",
       "      <th>field</th>\n",
       "      <th>price</th>\n",
       "      <th>canAutoExecute</th>\n",
       "      <th>Type</th>\n",
       "    </tr>\n",
       "  </thead>\n",
       "  <tbody>\n",
       "    <tr>\n",
       "      <th>0</th>\n",
       "      <td>1002</td>\n",
       "      <td>1</td>\n",
       "      <td>1.22441</td>\n",
       "      <td>1</td>\n",
       "      <td>BID PRICE</td>\n",
       "    </tr>\n",
       "    <tr>\n",
       "      <th>1</th>\n",
       "      <td>1002</td>\n",
       "      <td>2</td>\n",
       "      <td>1.22443</td>\n",
       "      <td>1</td>\n",
       "      <td>ASK PRICE</td>\n",
       "    </tr>\n",
       "    <tr>\n",
       "      <th>2</th>\n",
       "      <td>1002</td>\n",
       "      <td>6</td>\n",
       "      <td>1.22905</td>\n",
       "      <td>0</td>\n",
       "      <td>HIGH</td>\n",
       "    </tr>\n",
       "    <tr>\n",
       "      <th>3</th>\n",
       "      <td>1002</td>\n",
       "      <td>7</td>\n",
       "      <td>1.22355</td>\n",
       "      <td>0</td>\n",
       "      <td>LOW</td>\n",
       "    </tr>\n",
       "    <tr>\n",
       "      <th>4</th>\n",
       "      <td>1002</td>\n",
       "      <td>9</td>\n",
       "      <td>1.22780</td>\n",
       "      <td>0</td>\n",
       "      <td>CLOSE PRICE</td>\n",
       "    </tr>\n",
       "  </tbody>\n",
       "</table>\n",
       "</div>"
      ],
      "text/plain": [
       "   tickerId  field    price  canAutoExecute         Type\n",
       "0      1002      1  1.22441               1    BID PRICE\n",
       "1      1002      2  1.22443               1    ASK PRICE\n",
       "2      1002      6  1.22905               0         HIGH\n",
       "3      1002      7  1.22355               0          LOW\n",
       "4      1002      9  1.22780               0  CLOSE PRICE"
      ]
     },
     "execution_count": 28,
     "metadata": {},
     "output_type": "execute_result"
    }
   ],
   "source": [
    "tick_data = pd.DataFrame(callback.tick_Price, \n",
    "                         columns = ['tickerId', 'field', 'price', 'canAutoExecute'])\n",
    "tick_type = {0 : \"BID SIZE\",\n",
    "             1 : \"BID PRICE\",\n",
    "             2 : \"ASK PRICE\",\n",
    "             3 : \"ASK SIZE\",\n",
    "             4 : \"LAST PRICE\",\n",
    "             5 : \"LAST SIZE\",\n",
    "             6 : \"HIGH\",\n",
    "             7 : \"LOW\",\n",
    "             8 : \"VOLUME\",\n",
    "             9 : \"CLOSE PRICE\",\n",
    "             10 : \"BID OPTION COMPUTATION\",\n",
    "             11 : \"ASK OPTION COMPUTATION\",\n",
    "             12 : \"LAST OPTION COMPUTATION\",\n",
    "             13 : \"MODEL OPTION COMPUTATION\",\n",
    "             14 : \"OPEN_TICK\",\n",
    "             15 : \"LOW 13 WEEK\",\n",
    "             16 : \"HIGH 13 WEEK\",\n",
    "             17 : \"LOW 26 WEEK\",\n",
    "             18 : \"HIGH 26 WEEK\",\n",
    "             19 : \"LOW 52 WEEK\",\n",
    "             20 : \"HIGH 52 WEEK\",\n",
    "             21 : \"AVG VOLUME\",\n",
    "             22 : \"OPEN INTEREST\",\n",
    "             23 : \"OPTION HISTORICAL VOL\",\n",
    "             24 : \"OPTION IMPLIED VOL\",\n",
    "             27 : \"OPTION CALL OPEN INTEREST\",\n",
    "             28 : \"OPTION PUT OPEN INTEREST\",\n",
    "             29 : \"OPTION CALL VOLUME\"}\n",
    "tick_data[\"Type\"] = tick_data[\"field\"].map(tick_type)\n",
    "tick_data[-10:]"
   ]
  },
  {
   "cell_type": "markdown",
   "metadata": {},
   "source": [
    "#### Receiving Tick Size\n",
    "`self.tick_Size`"
   ]
  },
  {
   "cell_type": "code",
   "execution_count": 29,
   "metadata": {},
   "outputs": [
    {
     "data": {
      "text/html": [
       "<div>\n",
       "<style>\n",
       "    .dataframe thead tr:only-child th {\n",
       "        text-align: right;\n",
       "    }\n",
       "\n",
       "    .dataframe thead th {\n",
       "        text-align: left;\n",
       "    }\n",
       "\n",
       "    .dataframe tbody tr th {\n",
       "        vertical-align: top;\n",
       "    }\n",
       "</style>\n",
       "<table border=\"1\" class=\"dataframe\">\n",
       "  <thead>\n",
       "    <tr style=\"text-align: right;\">\n",
       "      <th></th>\n",
       "      <th>tickerId</th>\n",
       "      <th>field</th>\n",
       "      <th>size</th>\n",
       "      <th>Type</th>\n",
       "    </tr>\n",
       "  </thead>\n",
       "  <tbody>\n",
       "    <tr>\n",
       "      <th>184</th>\n",
       "      <td>1002</td>\n",
       "      <td>3</td>\n",
       "      <td>9400000</td>\n",
       "      <td>ASK SIZE</td>\n",
       "    </tr>\n",
       "    <tr>\n",
       "      <th>185</th>\n",
       "      <td>1002</td>\n",
       "      <td>0</td>\n",
       "      <td>3000000</td>\n",
       "      <td>BID SIZE</td>\n",
       "    </tr>\n",
       "    <tr>\n",
       "      <th>186</th>\n",
       "      <td>1002</td>\n",
       "      <td>3</td>\n",
       "      <td>10400000</td>\n",
       "      <td>ASK SIZE</td>\n",
       "    </tr>\n",
       "    <tr>\n",
       "      <th>187</th>\n",
       "      <td>1002</td>\n",
       "      <td>3</td>\n",
       "      <td>9400000</td>\n",
       "      <td>ASK SIZE</td>\n",
       "    </tr>\n",
       "    <tr>\n",
       "      <th>188</th>\n",
       "      <td>1002</td>\n",
       "      <td>3</td>\n",
       "      <td>8400000</td>\n",
       "      <td>ASK SIZE</td>\n",
       "    </tr>\n",
       "    <tr>\n",
       "      <th>189</th>\n",
       "      <td>1002</td>\n",
       "      <td>0</td>\n",
       "      <td>1000000</td>\n",
       "      <td>BID SIZE</td>\n",
       "    </tr>\n",
       "    <tr>\n",
       "      <th>190</th>\n",
       "      <td>1002</td>\n",
       "      <td>0</td>\n",
       "      <td>1000000</td>\n",
       "      <td>BID SIZE</td>\n",
       "    </tr>\n",
       "    <tr>\n",
       "      <th>191</th>\n",
       "      <td>1002</td>\n",
       "      <td>3</td>\n",
       "      <td>8900000</td>\n",
       "      <td>ASK SIZE</td>\n",
       "    </tr>\n",
       "    <tr>\n",
       "      <th>192</th>\n",
       "      <td>1002</td>\n",
       "      <td>0</td>\n",
       "      <td>4500000</td>\n",
       "      <td>BID SIZE</td>\n",
       "    </tr>\n",
       "    <tr>\n",
       "      <th>193</th>\n",
       "      <td>1002</td>\n",
       "      <td>0</td>\n",
       "      <td>4500000</td>\n",
       "      <td>BID SIZE</td>\n",
       "    </tr>\n",
       "  </tbody>\n",
       "</table>\n",
       "</div>"
      ],
      "text/plain": [
       "     tickerId  field      size      Type\n",
       "184      1002      3   9400000  ASK SIZE\n",
       "185      1002      0   3000000  BID SIZE\n",
       "186      1002      3  10400000  ASK SIZE\n",
       "187      1002      3   9400000  ASK SIZE\n",
       "188      1002      3   8400000  ASK SIZE\n",
       "189      1002      0   1000000  BID SIZE\n",
       "190      1002      0   1000000  BID SIZE\n",
       "191      1002      3   8900000  ASK SIZE\n",
       "192      1002      0   4500000  BID SIZE\n",
       "193      1002      0   4500000  BID SIZE"
      ]
     },
     "execution_count": 29,
     "metadata": {},
     "output_type": "execute_result"
    }
   ],
   "source": [
    "tick_data = pd.DataFrame(callback.tick_Size, \n",
    "                         columns = [\"tickerId\", \"field\", \"size\"])\n",
    "tick_data[\"Type\"] = tick_data[\"field\"].map(tick_type)\n",
    "tick_data[-10:]"
   ]
  },
  {
   "cell_type": "markdown",
   "metadata": {},
   "source": [
    "#### Calculate Implied Volatility\n",
    "`calculateImpliedVolatility`"
   ]
  },
  {
   "cell_type": "code",
   "execution_count": 33,
   "metadata": {},
   "outputs": [],
   "source": [
    "contract_info = create.create_contract(symbol='NFLX 180615C00300000',\n",
    "                                       secType='OPT', exchange='SMART', \n",
    "                                       currency='USD',\n",
    "                                       right='CALL', \n",
    "                                       strike='300', \n",
    "                                       expiry='20180615',\n",
    "                                       multiplier=100, \n",
    "                                       tradingClass=\"NFLX\")\n",
    "tws.calculateImpliedVolatility(tickedId, \n",
    "                               contract_info, \n",
    "                               5.89, \n",
    "                               89.91)"
   ]
  },
  {
   "cell_type": "code",
   "execution_count": 34,
   "metadata": {},
   "outputs": [
    {
     "data": {
      "text/html": [
       "<div>\n",
       "<style>\n",
       "    .dataframe thead tr:only-child th {\n",
       "        text-align: right;\n",
       "    }\n",
       "\n",
       "    .dataframe thead th {\n",
       "        text-align: left;\n",
       "    }\n",
       "\n",
       "    .dataframe tbody tr th {\n",
       "        vertical-align: top;\n",
       "    }\n",
       "</style>\n",
       "<table border=\"1\" class=\"dataframe\">\n",
       "  <thead>\n",
       "    <tr style=\"text-align: right;\">\n",
       "      <th></th>\n",
       "      <th>tickerId</th>\n",
       "      <th>field</th>\n",
       "      <th>impliedVol</th>\n",
       "      <th>delta</th>\n",
       "      <th>optPrice</th>\n",
       "      <th>pvDividend</th>\n",
       "      <th>gamma</th>\n",
       "      <th>vega</th>\n",
       "      <th>theta</th>\n",
       "      <th>undPrice</th>\n",
       "    </tr>\n",
       "  </thead>\n",
       "  <tbody>\n",
       "    <tr>\n",
       "      <th>0</th>\n",
       "      <td>1002</td>\n",
       "      <td>53</td>\n",
       "      <td>2.053619</td>\n",
       "      <td>9223372036854775807</td>\n",
       "      <td>5.89</td>\n",
       "      <td>9223372036854775807</td>\n",
       "      <td>9223372036854775807</td>\n",
       "      <td>9223372036854775807</td>\n",
       "      <td>9223372036854775807</td>\n",
       "      <td>89.91</td>\n",
       "    </tr>\n",
       "  </tbody>\n",
       "</table>\n",
       "</div>"
      ],
      "text/plain": [
       "   tickerId  field  impliedVol                delta  optPrice  \\\n",
       "0      1002     53    2.053619  9223372036854775807      5.89   \n",
       "\n",
       "            pvDividend                gamma                 vega  \\\n",
       "0  9223372036854775807  9223372036854775807  9223372036854775807   \n",
       "\n",
       "                 theta  undPrice  \n",
       "0  9223372036854775807     89.91  "
      ]
     },
     "execution_count": 34,
     "metadata": {},
     "output_type": "execute_result"
    }
   ],
   "source": [
    "pd.DataFrame(callback.tick_OptionComputation,\n",
    "             columns=[\"tickerId\", \"field\", \"impliedVol\", \"delta\",\n",
    "                      \"optPrice\", \"pvDividend\", \"gamma\", \"vega\",\n",
    "                      \"theta\", \"undPrice\"])"
   ]
  },
  {
   "cell_type": "markdown",
   "metadata": {},
   "source": [
    "#### Calculate Option Price\n",
    "`tick_OptionComputation`"
   ]
  },
  {
   "cell_type": "code",
   "execution_count": 35,
   "metadata": {},
   "outputs": [],
   "source": [
    "tws.calculateOptionPrice(tickedId, \n",
    "                         contract_info, \n",
    "                         0.84, \n",
    "                         89.91)"
   ]
  },
  {
   "cell_type": "code",
   "execution_count": 36,
   "metadata": {},
   "outputs": [
    {
     "data": {
      "text/html": [
       "<div>\n",
       "<style>\n",
       "    .dataframe thead tr:only-child th {\n",
       "        text-align: right;\n",
       "    }\n",
       "\n",
       "    .dataframe thead th {\n",
       "        text-align: left;\n",
       "    }\n",
       "\n",
       "    .dataframe tbody tr th {\n",
       "        vertical-align: top;\n",
       "    }\n",
       "</style>\n",
       "<table border=\"1\" class=\"dataframe\">\n",
       "  <thead>\n",
       "    <tr style=\"text-align: right;\">\n",
       "      <th></th>\n",
       "      <th>tickerId</th>\n",
       "      <th>field</th>\n",
       "      <th>impliedVol</th>\n",
       "      <th>delta</th>\n",
       "      <th>optPrice</th>\n",
       "      <th>pvDividend</th>\n",
       "      <th>gamma</th>\n",
       "      <th>vega</th>\n",
       "      <th>theta</th>\n",
       "      <th>undPrice</th>\n",
       "    </tr>\n",
       "  </thead>\n",
       "  <tbody>\n",
       "    <tr>\n",
       "      <th>0</th>\n",
       "      <td>1002</td>\n",
       "      <td>53</td>\n",
       "      <td>2.053619</td>\n",
       "      <td>9.223372e+18</td>\n",
       "      <td>5.890000</td>\n",
       "      <td>9223372036854775807</td>\n",
       "      <td>9.223372e+18</td>\n",
       "      <td>9.223372e+18</td>\n",
       "      <td>9223372036854775807</td>\n",
       "      <td>89.91</td>\n",
       "    </tr>\n",
       "    <tr>\n",
       "      <th>1</th>\n",
       "      <td>1002</td>\n",
       "      <td>53</td>\n",
       "      <td>0.840000</td>\n",
       "      <td>9.649391e-04</td>\n",
       "      <td>0.008173</td>\n",
       "      <td>9223372036854775807</td>\n",
       "      <td>9.743840e-05</td>\n",
       "      <td>1.137006e-03</td>\n",
       "      <td>9223372036854775807</td>\n",
       "      <td>89.91</td>\n",
       "    </tr>\n",
       "  </tbody>\n",
       "</table>\n",
       "</div>"
      ],
      "text/plain": [
       "   tickerId  field  impliedVol         delta  optPrice           pvDividend  \\\n",
       "0      1002     53    2.053619  9.223372e+18  5.890000  9223372036854775807   \n",
       "1      1002     53    0.840000  9.649391e-04  0.008173  9223372036854775807   \n",
       "\n",
       "          gamma          vega                theta  undPrice  \n",
       "0  9.223372e+18  9.223372e+18  9223372036854775807     89.91  \n",
       "1  9.743840e-05  1.137006e-03  9223372036854775807     89.91  "
      ]
     },
     "execution_count": 36,
     "metadata": {},
     "output_type": "execute_result"
    }
   ],
   "source": [
    "pd.DataFrame(callback.tick_OptionComputation,\n",
    "             columns=[\"tickerId\", \"field\", \"impliedVol\", \"delta\",\n",
    "                      \"optPrice\", \"pvDividend\", \"gamma\", \"vega\",\n",
    "                      \"theta\", \"undPrice\"])"
   ]
  },
  {
   "cell_type": "markdown",
   "metadata": {},
   "source": [
    "#### Cancelling Market Data Stream\n",
    "`cancelMktData`"
   ]
  },
  {
   "cell_type": "code",
   "execution_count": 37,
   "metadata": {},
   "outputs": [],
   "source": [
    "tws.cancelMktData(tickedId)"
   ]
  },
  {
   "cell_type": "markdown",
   "metadata": {
    "collapsed": true
   },
   "source": [
    "*****"
   ]
  },
  {
   "cell_type": "markdown",
   "metadata": {},
   "source": [
    "# Historical Data\n",
    "### Learning Outcomes\n",
    "For this section, you will learn how you can obtain the following information:\n",
    "1. Historical Data"
   ]
  },
  {
   "cell_type": "markdown",
   "metadata": {},
   "source": [
    "### Summary of Historical Data\n",
    "\n",
    "| Request Call | Functions Utilised | Data Stored in |\n",
    "| --- | --- | --- |\n",
    "| reqHistoricalData | historicalData  | self.historical_Data |"
   ]
  },
  {
   "cell_type": "code",
   "execution_count": 38,
   "metadata": {
    "collapsed": true
   },
   "outputs": [],
   "source": [
    "#contract_Details = create.create_contract('EUR', 'CASH', 'IDEALPRO', 'USD')\n",
    "contract_Details = create.create_contract('AAPL', 'STK', 'SMART', 'USD')"
   ]
  },
  {
   "cell_type": "code",
   "execution_count": 39,
   "metadata": {
    "collapsed": true
   },
   "outputs": [],
   "source": [
    "data_endtime = datetime.now().strftime(\"%Y%m%d %H:%M:%S\")"
   ]
  },
  {
   "cell_type": "markdown",
   "metadata": {},
   "source": [
    "#### Requesting Historical Data\n",
    "`reqHistoricalData`"
   ]
  },
  {
   "cell_type": "code",
   "execution_count": 40,
   "metadata": {},
   "outputs": [],
   "source": [
    "tickerId = 9002\n",
    "tws.reqHistoricalData(tickerId, \n",
    "                      contract_Details, \n",
    "                      data_endtime,\n",
    "                      \"1 M\", \n",
    "                      \"1 day\", \n",
    "                      \"BID\", \n",
    "                      0, \n",
    "                      1)"
   ]
  },
  {
   "cell_type": "code",
   "execution_count": 42,
   "metadata": {},
   "outputs": [
    {
     "data": {
      "text/html": [
       "<div>\n",
       "<style>\n",
       "    .dataframe thead tr:only-child th {\n",
       "        text-align: right;\n",
       "    }\n",
       "\n",
       "    .dataframe thead th {\n",
       "        text-align: left;\n",
       "    }\n",
       "\n",
       "    .dataframe tbody tr th {\n",
       "        vertical-align: top;\n",
       "    }\n",
       "</style>\n",
       "<table border=\"1\" class=\"dataframe\">\n",
       "  <thead>\n",
       "    <tr style=\"text-align: right;\">\n",
       "      <th></th>\n",
       "      <th>reqId</th>\n",
       "      <th>date</th>\n",
       "      <th>open</th>\n",
       "      <th>high</th>\n",
       "      <th>low</th>\n",
       "      <th>close</th>\n",
       "      <th>volume</th>\n",
       "      <th>count</th>\n",
       "      <th>WAP</th>\n",
       "      <th>hasGaps</th>\n",
       "    </tr>\n",
       "  </thead>\n",
       "  <tbody>\n",
       "    <tr>\n",
       "      <th>12</th>\n",
       "      <td>9002</td>\n",
       "      <td>20180323</td>\n",
       "      <td>167.74</td>\n",
       "      <td>169.92</td>\n",
       "      <td>164.87</td>\n",
       "      <td>165.15</td>\n",
       "      <td>-1</td>\n",
       "      <td>-1</td>\n",
       "      <td>-1.0</td>\n",
       "      <td>False</td>\n",
       "    </tr>\n",
       "    <tr>\n",
       "      <th>13</th>\n",
       "      <td>9002</td>\n",
       "      <td>20180326</td>\n",
       "      <td>167.60</td>\n",
       "      <td>173.10</td>\n",
       "      <td>166.42</td>\n",
       "      <td>172.91</td>\n",
       "      <td>-1</td>\n",
       "      <td>-1</td>\n",
       "      <td>-1.0</td>\n",
       "      <td>False</td>\n",
       "    </tr>\n",
       "    <tr>\n",
       "      <th>14</th>\n",
       "      <td>9002</td>\n",
       "      <td>20180327</td>\n",
       "      <td>174.01</td>\n",
       "      <td>175.13</td>\n",
       "      <td>167.01</td>\n",
       "      <td>168.65</td>\n",
       "      <td>-1</td>\n",
       "      <td>-1</td>\n",
       "      <td>-1.0</td>\n",
       "      <td>False</td>\n",
       "    </tr>\n",
       "    <tr>\n",
       "      <th>15</th>\n",
       "      <td>9002</td>\n",
       "      <td>20180328</td>\n",
       "      <td>163.32</td>\n",
       "      <td>170.00</td>\n",
       "      <td>163.32</td>\n",
       "      <td>166.85</td>\n",
       "      <td>-1</td>\n",
       "      <td>-1</td>\n",
       "      <td>-1.0</td>\n",
       "      <td>False</td>\n",
       "    </tr>\n",
       "    <tr>\n",
       "      <th>16</th>\n",
       "      <td>9002</td>\n",
       "      <td>20180329</td>\n",
       "      <td>167.10</td>\n",
       "      <td>171.74</td>\n",
       "      <td>166.71</td>\n",
       "      <td>168.17</td>\n",
       "      <td>-1</td>\n",
       "      <td>-1</td>\n",
       "      <td>-1.0</td>\n",
       "      <td>False</td>\n",
       "    </tr>\n",
       "    <tr>\n",
       "      <th>17</th>\n",
       "      <td>9002</td>\n",
       "      <td>20180402</td>\n",
       "      <td>167.60</td>\n",
       "      <td>168.94</td>\n",
       "      <td>164.47</td>\n",
       "      <td>166.55</td>\n",
       "      <td>-1</td>\n",
       "      <td>-1</td>\n",
       "      <td>-1.0</td>\n",
       "      <td>False</td>\n",
       "    </tr>\n",
       "    <tr>\n",
       "      <th>18</th>\n",
       "      <td>9002</td>\n",
       "      <td>20180403</td>\n",
       "      <td>167.50</td>\n",
       "      <td>168.73</td>\n",
       "      <td>164.88</td>\n",
       "      <td>167.75</td>\n",
       "      <td>-1</td>\n",
       "      <td>-1</td>\n",
       "      <td>-1.0</td>\n",
       "      <td>False</td>\n",
       "    </tr>\n",
       "    <tr>\n",
       "      <th>19</th>\n",
       "      <td>9002</td>\n",
       "      <td>20180404</td>\n",
       "      <td>165.10</td>\n",
       "      <td>171.99</td>\n",
       "      <td>163.40</td>\n",
       "      <td>171.93</td>\n",
       "      <td>-1</td>\n",
       "      <td>-1</td>\n",
       "      <td>-1.0</td>\n",
       "      <td>False</td>\n",
       "    </tr>\n",
       "    <tr>\n",
       "      <th>20</th>\n",
       "      <td>9002</td>\n",
       "      <td>20180405</td>\n",
       "      <td>165.06</td>\n",
       "      <td>173.55</td>\n",
       "      <td>165.06</td>\n",
       "      <td>172.36</td>\n",
       "      <td>-1</td>\n",
       "      <td>-1</td>\n",
       "      <td>-1.0</td>\n",
       "      <td>False</td>\n",
       "    </tr>\n",
       "    <tr>\n",
       "      <th>21</th>\n",
       "      <td>9002</td>\n",
       "      <td>finished-20180305  22:21:18-20180405  22:21:18</td>\n",
       "      <td>-1.00</td>\n",
       "      <td>-1.00</td>\n",
       "      <td>-1.00</td>\n",
       "      <td>-1.00</td>\n",
       "      <td>-1</td>\n",
       "      <td>-1</td>\n",
       "      <td>-1.0</td>\n",
       "      <td>False</td>\n",
       "    </tr>\n",
       "  </tbody>\n",
       "</table>\n",
       "</div>"
      ],
      "text/plain": [
       "    reqId                                            date    open    high  \\\n",
       "12   9002                                        20180323  167.74  169.92   \n",
       "13   9002                                        20180326  167.60  173.10   \n",
       "14   9002                                        20180327  174.01  175.13   \n",
       "15   9002                                        20180328  163.32  170.00   \n",
       "16   9002                                        20180329  167.10  171.74   \n",
       "17   9002                                        20180402  167.60  168.94   \n",
       "18   9002                                        20180403  167.50  168.73   \n",
       "19   9002                                        20180404  165.10  171.99   \n",
       "20   9002                                        20180405  165.06  173.55   \n",
       "21   9002  finished-20180305  22:21:18-20180405  22:21:18   -1.00   -1.00   \n",
       "\n",
       "       low   close  volume  count  WAP  hasGaps  \n",
       "12  164.87  165.15      -1     -1 -1.0    False  \n",
       "13  166.42  172.91      -1     -1 -1.0    False  \n",
       "14  167.01  168.65      -1     -1 -1.0    False  \n",
       "15  163.32  166.85      -1     -1 -1.0    False  \n",
       "16  166.71  168.17      -1     -1 -1.0    False  \n",
       "17  164.47  166.55      -1     -1 -1.0    False  \n",
       "18  164.88  167.75      -1     -1 -1.0    False  \n",
       "19  163.40  171.93      -1     -1 -1.0    False  \n",
       "20  165.06  172.36      -1     -1 -1.0    False  \n",
       "21   -1.00   -1.00      -1     -1 -1.0    False  "
      ]
     },
     "execution_count": 42,
     "metadata": {},
     "output_type": "execute_result"
    }
   ],
   "source": [
    "data= pd.DataFrame(callback.historical_Data, \n",
    "                   columns = [\"reqId\", \"date\", \"open\",\n",
    "                              \"high\", \"low\", \"close\", \n",
    "                              \"volume\", \"count\", \"WAP\", \n",
    "                              \"hasGaps\"])\n",
    "data[-10:]"
   ]
  },
  {
   "cell_type": "markdown",
   "metadata": {},
   "source": [
    "*****"
   ]
  },
  {
   "cell_type": "markdown",
   "metadata": {},
   "source": [
    "# Market Depth\n",
    "### Learning Outcomes\n",
    "For this section, you will learn how you can obtain the following information:\n",
    "1. Request Market Depth"
   ]
  },
  {
   "cell_type": "markdown",
   "metadata": {},
   "source": [
    "### Summary of Market Depth\n",
    "\n",
    "| Request Call | Functions Utilised | Data Stored in |\n",
    "| --- | --- | --- |\n",
    "| reqMktDepth           | updateMktDepth          | self.update_MktDepth |"
   ]
  },
  {
   "cell_type": "code",
   "execution_count": 43,
   "metadata": {
    "collapsed": true
   },
   "outputs": [],
   "source": [
    "contract_info = create.create_contract('EUR', 'CASH', 'IDEALPRO', 'USD')"
   ]
  },
  {
   "cell_type": "code",
   "execution_count": 44,
   "metadata": {},
   "outputs": [
    {
     "name": "stdout",
     "output_type": "stream",
     "text": [
      "[-1, 2108, 'Market data farm connection is inactive but should be available upon demand.usopt']\n",
      "[-1, 2108, 'Market data farm connection is inactive but should be available upon demand.usopt']\n"
     ]
    }
   ],
   "source": [
    "tickerId = 7000\n",
    "tws.reqMktDepth(tickerId, contract_info, 5)"
   ]
  },
  {
   "cell_type": "code",
   "execution_count": 45,
   "metadata": {
    "collapsed": true
   },
   "outputs": [],
   "source": [
    "operation_type = {0 : \"Insert\",\n",
    "                  1 : \"Update\",\n",
    "                  2 : \"Delete\",}\n",
    "side_type = {0 : \"Ask\",\n",
    "             1 : \"Bid\"}"
   ]
  },
  {
   "cell_type": "code",
   "execution_count": 46,
   "metadata": {},
   "outputs": [
    {
     "data": {
      "text/html": [
       "<div>\n",
       "<style>\n",
       "    .dataframe thead tr:only-child th {\n",
       "        text-align: right;\n",
       "    }\n",
       "\n",
       "    .dataframe thead th {\n",
       "        text-align: left;\n",
       "    }\n",
       "\n",
       "    .dataframe tbody tr th {\n",
       "        vertical-align: top;\n",
       "    }\n",
       "</style>\n",
       "<table border=\"1\" class=\"dataframe\">\n",
       "  <thead>\n",
       "    <tr style=\"text-align: right;\">\n",
       "      <th></th>\n",
       "      <th>tickerId</th>\n",
       "      <th>position</th>\n",
       "      <th>operation</th>\n",
       "      <th>side</th>\n",
       "      <th>price</th>\n",
       "      <th>size</th>\n",
       "      <th>operation_type</th>\n",
       "      <th>side_type</th>\n",
       "    </tr>\n",
       "  </thead>\n",
       "  <tbody>\n",
       "    <tr>\n",
       "      <th>60</th>\n",
       "      <td>7000</td>\n",
       "      <td>2</td>\n",
       "      <td>1</td>\n",
       "      <td>1</td>\n",
       "      <td>1.22449</td>\n",
       "      <td>14000000</td>\n",
       "      <td>Update</td>\n",
       "      <td>Bid</td>\n",
       "    </tr>\n",
       "    <tr>\n",
       "      <th>61</th>\n",
       "      <td>7000</td>\n",
       "      <td>3</td>\n",
       "      <td>1</td>\n",
       "      <td>1</td>\n",
       "      <td>1.22448</td>\n",
       "      <td>4000000</td>\n",
       "      <td>Update</td>\n",
       "      <td>Bid</td>\n",
       "    </tr>\n",
       "    <tr>\n",
       "      <th>62</th>\n",
       "      <td>7000</td>\n",
       "      <td>2</td>\n",
       "      <td>1</td>\n",
       "      <td>1</td>\n",
       "      <td>1.22449</td>\n",
       "      <td>10500000</td>\n",
       "      <td>Update</td>\n",
       "      <td>Bid</td>\n",
       "    </tr>\n",
       "    <tr>\n",
       "      <th>63</th>\n",
       "      <td>7000</td>\n",
       "      <td>3</td>\n",
       "      <td>1</td>\n",
       "      <td>1</td>\n",
       "      <td>1.22448</td>\n",
       "      <td>5500000</td>\n",
       "      <td>Update</td>\n",
       "      <td>Bid</td>\n",
       "    </tr>\n",
       "    <tr>\n",
       "      <th>64</th>\n",
       "      <td>7000</td>\n",
       "      <td>1</td>\n",
       "      <td>1</td>\n",
       "      <td>0</td>\n",
       "      <td>1.22455</td>\n",
       "      <td>6000000</td>\n",
       "      <td>Update</td>\n",
       "      <td>Ask</td>\n",
       "    </tr>\n",
       "    <tr>\n",
       "      <th>65</th>\n",
       "      <td>7000</td>\n",
       "      <td>2</td>\n",
       "      <td>1</td>\n",
       "      <td>0</td>\n",
       "      <td>1.22456</td>\n",
       "      <td>4500000</td>\n",
       "      <td>Update</td>\n",
       "      <td>Ask</td>\n",
       "    </tr>\n",
       "    <tr>\n",
       "      <th>66</th>\n",
       "      <td>7000</td>\n",
       "      <td>2</td>\n",
       "      <td>1</td>\n",
       "      <td>1</td>\n",
       "      <td>1.22449</td>\n",
       "      <td>11500000</td>\n",
       "      <td>Update</td>\n",
       "      <td>Bid</td>\n",
       "    </tr>\n",
       "    <tr>\n",
       "      <th>67</th>\n",
       "      <td>7000</td>\n",
       "      <td>3</td>\n",
       "      <td>1</td>\n",
       "      <td>1</td>\n",
       "      <td>1.22448</td>\n",
       "      <td>2500000</td>\n",
       "      <td>Update</td>\n",
       "      <td>Bid</td>\n",
       "    </tr>\n",
       "    <tr>\n",
       "      <th>68</th>\n",
       "      <td>7000</td>\n",
       "      <td>2</td>\n",
       "      <td>1</td>\n",
       "      <td>1</td>\n",
       "      <td>1.22449</td>\n",
       "      <td>13000000</td>\n",
       "      <td>Update</td>\n",
       "      <td>Bid</td>\n",
       "    </tr>\n",
       "    <tr>\n",
       "      <th>69</th>\n",
       "      <td>7000</td>\n",
       "      <td>3</td>\n",
       "      <td>1</td>\n",
       "      <td>1</td>\n",
       "      <td>1.22448</td>\n",
       "      <td>1000000</td>\n",
       "      <td>Update</td>\n",
       "      <td>Bid</td>\n",
       "    </tr>\n",
       "  </tbody>\n",
       "</table>\n",
       "</div>"
      ],
      "text/plain": [
       "    tickerId  position  operation  side    price      size operation_type  \\\n",
       "60      7000         2          1     1  1.22449  14000000         Update   \n",
       "61      7000         3          1     1  1.22448   4000000         Update   \n",
       "62      7000         2          1     1  1.22449  10500000         Update   \n",
       "63      7000         3          1     1  1.22448   5500000         Update   \n",
       "64      7000         1          1     0  1.22455   6000000         Update   \n",
       "65      7000         2          1     0  1.22456   4500000         Update   \n",
       "66      7000         2          1     1  1.22449  11500000         Update   \n",
       "67      7000         3          1     1  1.22448   2500000         Update   \n",
       "68      7000         2          1     1  1.22449  13000000         Update   \n",
       "69      7000         3          1     1  1.22448   1000000         Update   \n",
       "\n",
       "   side_type  \n",
       "60       Bid  \n",
       "61       Bid  \n",
       "62       Bid  \n",
       "63       Bid  \n",
       "64       Ask  \n",
       "65       Ask  \n",
       "66       Bid  \n",
       "67       Bid  \n",
       "68       Bid  \n",
       "69       Bid  "
      ]
     },
     "execution_count": 46,
     "metadata": {},
     "output_type": "execute_result"
    }
   ],
   "source": [
    "data_mktdepth = pd.DataFrame(callback.update_MktDepth,\n",
    "                             columns = [\"tickerId\", \"position\", \n",
    "                                        \"operation\", \"side\", \n",
    "                                        \"price\", \"size\"])\n",
    "data_mktdepth[\"operation_type\"] = data_mktdepth[\"operation\"].map(operation_type)\n",
    "data_mktdepth[\"side_type\"] = data_mktdepth[\"side\"].map(side_type)\n",
    "data_mktdepth[-10:]"
   ]
  },
  {
   "cell_type": "markdown",
   "metadata": {},
   "source": [
    "*****"
   ]
  },
  {
   "cell_type": "markdown",
   "metadata": {},
   "source": [
    "# Real Time Bars\n",
    "### Learning Outcomes\n",
    "For this section, you will learn how you can obtain the following information:\n",
    "1. Request Real Time Bars\n",
    "\n",
    "Note:\n",
    "* **barSize**. Only 5 sec bars are supported. \n",
    "* **whatToShow**:\n",
    "   * TRADES\n",
    "   * BID\n",
    "   * ASK\n",
    "   * MIDPOINT\n",
    "* **useRTH**:\n",
    "   * 0 = all data\n",
    "   * 1 = only data within **R**egular **T**rading **H**ours"
   ]
  },
  {
   "cell_type": "markdown",
   "metadata": {},
   "source": [
    "### Summary of Real Time Bars\n",
    "\n",
    "| Request Call | Functions Utilised | Data Stored in |\n",
    "| --- | --- | --- |\n",
    "| reqRealTimeBars           | realtimeBar          | self.real_timeBar |"
   ]
  },
  {
   "cell_type": "code",
   "execution_count": 47,
   "metadata": {
    "collapsed": true
   },
   "outputs": [],
   "source": [
    "contract_Details = create.create_contract('EUR', 'CASH', 'IDEALPRO', 'USD')"
   ]
  },
  {
   "cell_type": "code",
   "execution_count": 48,
   "metadata": {},
   "outputs": [],
   "source": [
    "tickerId = 10000\n",
    "tws.reqRealTimeBars(tickerId, \n",
    "                    contract_Details, \n",
    "                    5, \n",
    "                    \"MIDPOINT\", \n",
    "                    0)"
   ]
  },
  {
   "cell_type": "code",
   "execution_count": 50,
   "metadata": {
    "scrolled": true
   },
   "outputs": [
    {
     "data": {
      "text/html": [
       "<div>\n",
       "<style>\n",
       "    .dataframe thead tr:only-child th {\n",
       "        text-align: right;\n",
       "    }\n",
       "\n",
       "    .dataframe thead th {\n",
       "        text-align: left;\n",
       "    }\n",
       "\n",
       "    .dataframe tbody tr th {\n",
       "        vertical-align: top;\n",
       "    }\n",
       "</style>\n",
       "<table border=\"1\" class=\"dataframe\">\n",
       "  <thead>\n",
       "    <tr style=\"text-align: right;\">\n",
       "      <th></th>\n",
       "      <th>reqId</th>\n",
       "      <th>time</th>\n",
       "      <th>open</th>\n",
       "      <th>high</th>\n",
       "      <th>low</th>\n",
       "      <th>close</th>\n",
       "      <th>volume</th>\n",
       "      <th>wap</th>\n",
       "      <th>count</th>\n",
       "    </tr>\n",
       "  </thead>\n",
       "  <tbody>\n",
       "    <tr>\n",
       "      <th>0</th>\n",
       "      <td>10000</td>\n",
       "      <td>1522938095</td>\n",
       "      <td>1.224530</td>\n",
       "      <td>1.224570</td>\n",
       "      <td>1.22452</td>\n",
       "      <td>1.224525</td>\n",
       "      <td>-1</td>\n",
       "      <td>-1.0</td>\n",
       "      <td>-1</td>\n",
       "    </tr>\n",
       "    <tr>\n",
       "      <th>1</th>\n",
       "      <td>10000</td>\n",
       "      <td>1522938100</td>\n",
       "      <td>1.224525</td>\n",
       "      <td>1.224525</td>\n",
       "      <td>1.22449</td>\n",
       "      <td>1.224510</td>\n",
       "      <td>-1</td>\n",
       "      <td>-1.0</td>\n",
       "      <td>-1</td>\n",
       "    </tr>\n",
       "  </tbody>\n",
       "</table>\n",
       "</div>"
      ],
      "text/plain": [
       "   reqId        time      open      high      low     close  volume  wap  \\\n",
       "0  10000  1522938095  1.224530  1.224570  1.22452  1.224525      -1 -1.0   \n",
       "1  10000  1522938100  1.224525  1.224525  1.22449  1.224510      -1 -1.0   \n",
       "\n",
       "   count  \n",
       "0     -1  \n",
       "1     -1  "
      ]
     },
     "execution_count": 50,
     "metadata": {},
     "output_type": "execute_result"
    }
   ],
   "source": [
    "pd.DataFrame(callback.real_timeBar, \n",
    "             columns = [\"reqId\", \"time\", \"open\", \"high\", \"low\", \"close\", \"volume\", \"wap\", \"count\"])"
   ]
  },
  {
   "cell_type": "markdown",
   "metadata": {},
   "source": [
    "*****"
   ]
  },
  {
   "cell_type": "markdown",
   "metadata": {},
   "source": [
    "# Executions\n",
    "### Learning Outcomes\n",
    "For this section, you will learn how you can obtain the following information:\n",
    "1. Request Executions"
   ]
  },
  {
   "cell_type": "markdown",
   "metadata": {},
   "source": [
    "### Summary of Executions\n",
    "\n",
    "| Request Call | Functions Utilised | Data Stored in |\n",
    "| --- | --- | --- |\n",
    "| reqExecutions           | execDetails          | self.exec_Details_reqId |\n",
    "| | | self.exec_Details_contract |\n",
    "| | | self.exec_Details_execution |\n",
    "| | execDetailsEnd |self.exec_DetailsEnd_flag |\n",
    "| | commissionReport | self.commission_Report |"
   ]
  },
  {
   "cell_type": "code",
   "execution_count": 54,
   "metadata": {},
   "outputs": [],
   "source": [
    "tws.reqIds(1)\n",
    "order_id = callback.next_ValidId + 1\n",
    "contract_info = create.create_contract(symbol = \"ES\", secType = \"FUT\", \n",
    "                                       exchange = \"GLOBEX\", currency = \"USD\", \n",
    "                                       right = None, strike = None,\n",
    "                                       expiry = \"201806\", multiplier=None,\n",
    "                                       tradingClass=None)\n",
    "order_info = create.create_order(accountName, \"MKT\", 1, \"BUY\")\n",
    "tws.placeOrder(order_id, contract_info, order_info)"
   ]
  },
  {
   "cell_type": "code",
   "execution_count": 55,
   "metadata": {},
   "outputs": [],
   "source": [
    "tws.reqExecutions(3050, create.exec_filter(clientId, accountName, contract_info))"
   ]
  },
  {
   "cell_type": "code",
   "execution_count": 56,
   "metadata": {},
   "outputs": [
    {
     "data": {
      "text/plain": [
       "3050"
      ]
     },
     "execution_count": 56,
     "metadata": {},
     "output_type": "execute_result"
    }
   ],
   "source": [
    "callback.exec_Details_reqId"
   ]
  },
  {
   "cell_type": "code",
   "execution_count": 57,
   "metadata": {},
   "outputs": [
    {
     "data": {
      "text/plain": [
       "{'m_conId': 269745169,\n",
       " 'm_currency': 'USD',\n",
       " 'm_exchange': 'GLOBEX',\n",
       " 'm_expiry': '20180615',\n",
       " 'm_includeExpired': False,\n",
       " 'm_localSymbol': 'ESM8',\n",
       " 'm_multiplier': '50',\n",
       " 'm_right': None,\n",
       " 'm_secType': 'FUT',\n",
       " 'm_strike': 0.0,\n",
       " 'm_symbol': 'ES',\n",
       " 'm_tradingClass': 'ES'}"
      ]
     },
     "execution_count": 57,
     "metadata": {},
     "output_type": "execute_result"
    }
   ],
   "source": [
    "callback.exec_Details_contract.__dict__"
   ]
  },
  {
   "cell_type": "code",
   "execution_count": 58,
   "metadata": {},
   "outputs": [
    {
     "data": {
      "text/plain": [
       "{'m_acctNumber': 'DI246990',\n",
       " 'm_avgPrice': 2656.75,\n",
       " 'm_clientId': 5563,\n",
       " 'm_cumQty': 1,\n",
       " 'm_evMultiplier': 0,\n",
       " 'm_evRule': None,\n",
       " 'm_exchange': 'GLOBEX',\n",
       " 'm_execId': '0001f4e5.5ac59a6d.01.01',\n",
       " 'm_liquidation': 0,\n",
       " 'm_orderId': 21,\n",
       " 'm_orderRef': None,\n",
       " 'm_permId': 848701293,\n",
       " 'm_price': 2656.75,\n",
       " 'm_shares': 1,\n",
       " 'm_side': 'BOT',\n",
       " 'm_time': '20180405  22:22:10'}"
      ]
     },
     "execution_count": 58,
     "metadata": {},
     "output_type": "execute_result"
    }
   ],
   "source": [
    "callback.exec_Details_execution.__dict__"
   ]
  },
  {
   "cell_type": "code",
   "execution_count": 59,
   "metadata": {},
   "outputs": [
    {
     "data": {
      "text/html": [
       "<div>\n",
       "<style>\n",
       "    .dataframe thead tr:only-child th {\n",
       "        text-align: right;\n",
       "    }\n",
       "\n",
       "    .dataframe thead th {\n",
       "        text-align: left;\n",
       "    }\n",
       "\n",
       "    .dataframe tbody tr th {\n",
       "        vertical-align: top;\n",
       "    }\n",
       "</style>\n",
       "<table border=\"1\" class=\"dataframe\">\n",
       "  <thead>\n",
       "    <tr style=\"text-align: right;\">\n",
       "      <th></th>\n",
       "      <th>m_commission</th>\n",
       "      <th>m_currency</th>\n",
       "      <th>m_execId</th>\n",
       "      <th>m_realizedPNL</th>\n",
       "      <th>m_yield</th>\n",
       "      <th>m_yieldRedemptionDate</th>\n",
       "    </tr>\n",
       "  </thead>\n",
       "  <tbody>\n",
       "    <tr>\n",
       "      <th>0</th>\n",
       "      <td>2.05</td>\n",
       "      <td>USD</td>\n",
       "      <td>0001f4e5.5ac59a6d.01.01</td>\n",
       "      <td>1.797693e+308</td>\n",
       "      <td>1.797693e+308</td>\n",
       "      <td>0</td>\n",
       "    </tr>\n",
       "  </tbody>\n",
       "</table>\n",
       "</div>"
      ],
      "text/plain": [
       "   m_commission m_currency                 m_execId  m_realizedPNL  \\\n",
       "0          2.05        USD  0001f4e5.5ac59a6d.01.01  1.797693e+308   \n",
       "\n",
       "         m_yield  m_yieldRedemptionDate  \n",
       "0  1.797693e+308                      0  "
      ]
     },
     "execution_count": 59,
     "metadata": {},
     "output_type": "execute_result"
    }
   ],
   "source": [
    "pd.DataFrame(callback.commission_Report.__dict__, index=[0])"
   ]
  },
  {
   "cell_type": "code",
   "execution_count": 60,
   "metadata": {
    "collapsed": true
   },
   "outputs": [],
   "source": [
    "tws.eDisconnect()"
   ]
  },
  {
   "cell_type": "markdown",
   "metadata": {},
   "source": [
    "***"
   ]
  }
 ],
 "metadata": {
  "kernelspec": {
   "display_name": "Python 3",
   "language": "python",
   "name": "python3"
  },
  "language_info": {
   "codemirror_mode": {
    "name": "ipython",
    "version": 3
   },
   "file_extension": ".py",
   "mimetype": "text/x-python",
   "name": "python",
   "nbconvert_exporter": "python",
   "pygments_lexer": "ipython3",
   "version": "3.7.6"
  }
 },
 "nbformat": 4,
 "nbformat_minor": 1
}
